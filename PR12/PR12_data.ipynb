{
  "nbformat": 4,
  "nbformat_minor": 0,
  "metadata": {
    "colab": {
      "provenance": []
    },
    "kernelspec": {
      "name": "python3",
      "display_name": "Python 3"
    },
    "language_info": {
      "name": "python"
    }
  },
  "cells": [
    {
      "cell_type": "markdown",
      "source": [
        "### Задания\n",
        "1. Загрузить данные Market_Basket_Optimisation.csv.\n",
        "\n",
        "2. Визуализировать данные (отразить на гистограммах относительную и \n",
        "фактическую частоту встречаемости для 20 наиболее популярных \n",
        "товаров). \n",
        "\n",
        "3. Применить алгоритм Apriori, используя 3 разные библиотеки\n",
        "(apriori_python, apyori, efficient_apriori).\n",
        "\n",
        "4. Применить алгоритм FP-Growth из библиотеки fpgrowth_py.\n",
        "\n",
        "5. Сравнить время выполнения всех алгоритмов и построить гистограмму.\n",
        "\n",
        "6. Загрузить данные data.csv.\n",
        "\n",
        "7. Визуализировать данные (отразить на гистограммах относительную и \n",
        "фактическую частоту встречаемости для 20 наиболее популярных \n",
        "товаров).\n",
        "\n",
        "8. Применить алгоритм Apriori, используя 3 разные библиотеки\n",
        "(apriori_python, apyori, efficient_apriori).\n",
        "\n",
        "9. Применить алгоритм FP-Growth из библиотеки fpgrowth_py.\n",
        "\n",
        "10. Сравнить время выполнения всех алгоритмов и построить гистограмму"
      ],
      "metadata": {
        "id": "h2leqaeLPkM9"
      }
    },
    {
      "cell_type": "markdown",
      "source": [
        "## Загрузка пакетов и импорт библиотек"
      ],
      "metadata": {
        "id": "O3AR3K1BPto2"
      }
    },
    {
      "cell_type": "code",
      "execution_count": 1,
      "metadata": {
        "id": "CU17JQssPipA"
      },
      "outputs": [],
      "source": [
        "import time\n",
        "import pandas as pd\n",
        "\n",
        "import matplotlib.pyplot as plt"
      ]
    },
    {
      "cell_type": "markdown",
      "source": [
        "## Загрузка и обработка данных"
      ],
      "metadata": {
        "id": "0KBYqQeGQF2X"
      }
    },
    {
      "cell_type": "code",
      "source": [
        "df = pd.read_csv('/content/data.csv')\n",
        "print(df.shape)\n",
        "df.head(3)"
      ],
      "metadata": {
        "colab": {
          "base_uri": "https://localhost:8080/",
          "height": 205
        },
        "id": "-O2ucB7-QQpi",
        "outputId": "40e954ed-bec2-447d-b3c1-d3145b336e43"
      },
      "execution_count": 11,
      "outputs": [
        {
          "output_type": "stream",
          "name": "stdout",
          "text": [
            "(9530, 12)\n"
          ]
        },
        {
          "output_type": "execute_result",
          "data": {
            "text/plain": [
              "           Bread    Unnamed: 1 Unnamed: 2 Unnamed: 3 Unnamed: 4 Unnamed: 5  \\\n",
              "0   Scandinavian  Scandinavian        NaN        NaN        NaN        NaN   \n",
              "1  Hot chocolate           Jam    Cookies        NaN        NaN        NaN   \n",
              "2         Muffin           NaN        NaN        NaN        NaN        NaN   \n",
              "\n",
              "  Unnamed: 6 Unnamed: 7 Unnamed: 8 Unnamed: 9 Unnamed: 10 Unnamed: 11  \n",
              "0        NaN        NaN        NaN        NaN         NaN         NaN  \n",
              "1        NaN        NaN        NaN        NaN         NaN         NaN  \n",
              "2        NaN        NaN        NaN        NaN         NaN         NaN  "
            ],
            "text/html": [
              "\n",
              "  <div id=\"df-a62b8690-875e-4348-9187-d11c1d584cc8\">\n",
              "    <div class=\"colab-df-container\">\n",
              "      <div>\n",
              "<style scoped>\n",
              "    .dataframe tbody tr th:only-of-type {\n",
              "        vertical-align: middle;\n",
              "    }\n",
              "\n",
              "    .dataframe tbody tr th {\n",
              "        vertical-align: top;\n",
              "    }\n",
              "\n",
              "    .dataframe thead th {\n",
              "        text-align: right;\n",
              "    }\n",
              "</style>\n",
              "<table border=\"1\" class=\"dataframe\">\n",
              "  <thead>\n",
              "    <tr style=\"text-align: right;\">\n",
              "      <th></th>\n",
              "      <th>Bread</th>\n",
              "      <th>Unnamed: 1</th>\n",
              "      <th>Unnamed: 2</th>\n",
              "      <th>Unnamed: 3</th>\n",
              "      <th>Unnamed: 4</th>\n",
              "      <th>Unnamed: 5</th>\n",
              "      <th>Unnamed: 6</th>\n",
              "      <th>Unnamed: 7</th>\n",
              "      <th>Unnamed: 8</th>\n",
              "      <th>Unnamed: 9</th>\n",
              "      <th>Unnamed: 10</th>\n",
              "      <th>Unnamed: 11</th>\n",
              "    </tr>\n",
              "  </thead>\n",
              "  <tbody>\n",
              "    <tr>\n",
              "      <th>0</th>\n",
              "      <td>Scandinavian</td>\n",
              "      <td>Scandinavian</td>\n",
              "      <td>NaN</td>\n",
              "      <td>NaN</td>\n",
              "      <td>NaN</td>\n",
              "      <td>NaN</td>\n",
              "      <td>NaN</td>\n",
              "      <td>NaN</td>\n",
              "      <td>NaN</td>\n",
              "      <td>NaN</td>\n",
              "      <td>NaN</td>\n",
              "      <td>NaN</td>\n",
              "    </tr>\n",
              "    <tr>\n",
              "      <th>1</th>\n",
              "      <td>Hot chocolate</td>\n",
              "      <td>Jam</td>\n",
              "      <td>Cookies</td>\n",
              "      <td>NaN</td>\n",
              "      <td>NaN</td>\n",
              "      <td>NaN</td>\n",
              "      <td>NaN</td>\n",
              "      <td>NaN</td>\n",
              "      <td>NaN</td>\n",
              "      <td>NaN</td>\n",
              "      <td>NaN</td>\n",
              "      <td>NaN</td>\n",
              "    </tr>\n",
              "    <tr>\n",
              "      <th>2</th>\n",
              "      <td>Muffin</td>\n",
              "      <td>NaN</td>\n",
              "      <td>NaN</td>\n",
              "      <td>NaN</td>\n",
              "      <td>NaN</td>\n",
              "      <td>NaN</td>\n",
              "      <td>NaN</td>\n",
              "      <td>NaN</td>\n",
              "      <td>NaN</td>\n",
              "      <td>NaN</td>\n",
              "      <td>NaN</td>\n",
              "      <td>NaN</td>\n",
              "    </tr>\n",
              "  </tbody>\n",
              "</table>\n",
              "</div>\n",
              "      <button class=\"colab-df-convert\" onclick=\"convertToInteractive('df-a62b8690-875e-4348-9187-d11c1d584cc8')\"\n",
              "              title=\"Convert this dataframe to an interactive table.\"\n",
              "              style=\"display:none;\">\n",
              "        \n",
              "  <svg xmlns=\"http://www.w3.org/2000/svg\" height=\"24px\"viewBox=\"0 0 24 24\"\n",
              "       width=\"24px\">\n",
              "    <path d=\"M0 0h24v24H0V0z\" fill=\"none\"/>\n",
              "    <path d=\"M18.56 5.44l.94 2.06.94-2.06 2.06-.94-2.06-.94-.94-2.06-.94 2.06-2.06.94zm-11 1L8.5 8.5l.94-2.06 2.06-.94-2.06-.94L8.5 2.5l-.94 2.06-2.06.94zm10 10l.94 2.06.94-2.06 2.06-.94-2.06-.94-.94-2.06-.94 2.06-2.06.94z\"/><path d=\"M17.41 7.96l-1.37-1.37c-.4-.4-.92-.59-1.43-.59-.52 0-1.04.2-1.43.59L10.3 9.45l-7.72 7.72c-.78.78-.78 2.05 0 2.83L4 21.41c.39.39.9.59 1.41.59.51 0 1.02-.2 1.41-.59l7.78-7.78 2.81-2.81c.8-.78.8-2.07 0-2.86zM5.41 20L4 18.59l7.72-7.72 1.47 1.35L5.41 20z\"/>\n",
              "  </svg>\n",
              "      </button>\n",
              "      \n",
              "  <style>\n",
              "    .colab-df-container {\n",
              "      display:flex;\n",
              "      flex-wrap:wrap;\n",
              "      gap: 12px;\n",
              "    }\n",
              "\n",
              "    .colab-df-convert {\n",
              "      background-color: #E8F0FE;\n",
              "      border: none;\n",
              "      border-radius: 50%;\n",
              "      cursor: pointer;\n",
              "      display: none;\n",
              "      fill: #1967D2;\n",
              "      height: 32px;\n",
              "      padding: 0 0 0 0;\n",
              "      width: 32px;\n",
              "    }\n",
              "\n",
              "    .colab-df-convert:hover {\n",
              "      background-color: #E2EBFA;\n",
              "      box-shadow: 0px 1px 2px rgba(60, 64, 67, 0.3), 0px 1px 3px 1px rgba(60, 64, 67, 0.15);\n",
              "      fill: #174EA6;\n",
              "    }\n",
              "\n",
              "    [theme=dark] .colab-df-convert {\n",
              "      background-color: #3B4455;\n",
              "      fill: #D2E3FC;\n",
              "    }\n",
              "\n",
              "    [theme=dark] .colab-df-convert:hover {\n",
              "      background-color: #434B5C;\n",
              "      box-shadow: 0px 1px 3px 1px rgba(0, 0, 0, 0.15);\n",
              "      filter: drop-shadow(0px 1px 2px rgba(0, 0, 0, 0.3));\n",
              "      fill: #FFFFFF;\n",
              "    }\n",
              "  </style>\n",
              "\n",
              "      <script>\n",
              "        const buttonEl =\n",
              "          document.querySelector('#df-a62b8690-875e-4348-9187-d11c1d584cc8 button.colab-df-convert');\n",
              "        buttonEl.style.display =\n",
              "          google.colab.kernel.accessAllowed ? 'block' : 'none';\n",
              "\n",
              "        async function convertToInteractive(key) {\n",
              "          const element = document.querySelector('#df-a62b8690-875e-4348-9187-d11c1d584cc8');\n",
              "          const dataTable =\n",
              "            await google.colab.kernel.invokeFunction('convertToInteractive',\n",
              "                                                     [key], {});\n",
              "          if (!dataTable) return;\n",
              "\n",
              "          const docLinkHtml = 'Like what you see? Visit the ' +\n",
              "            '<a target=\"_blank\" href=https://colab.research.google.com/notebooks/data_table.ipynb>data table notebook</a>'\n",
              "            + ' to learn more about interactive tables.';\n",
              "          element.innerHTML = '';\n",
              "          dataTable['output_type'] = 'display_data';\n",
              "          await google.colab.output.renderOutput(dataTable, element);\n",
              "          const docLink = document.createElement('div');\n",
              "          docLink.innerHTML = docLinkHtml;\n",
              "          element.appendChild(docLink);\n",
              "        }\n",
              "      </script>\n",
              "    </div>\n",
              "  </div>\n",
              "  "
            ]
          },
          "metadata": {},
          "execution_count": 11
        }
      ]
    },
    {
      "cell_type": "code",
      "source": [
        "products = [df.columns.tolist()[0]]\n",
        "df.columns = [f'col_{i}' for i in range(1, 13)]\n",
        "df.head(2)"
      ],
      "metadata": {
        "colab": {
          "base_uri": "https://localhost:8080/",
          "height": 112
        },
        "id": "7FCow1GlQhkn",
        "outputId": "eb0d88d3-85ff-4f12-e6c6-7055cfedf835"
      },
      "execution_count": 12,
      "outputs": [
        {
          "output_type": "execute_result",
          "data": {
            "text/plain": [
              "           col_1         col_2    col_3 col_4 col_5 col_6 col_7 col_8 col_9  \\\n",
              "0   Scandinavian  Scandinavian      NaN   NaN   NaN   NaN   NaN   NaN   NaN   \n",
              "1  Hot chocolate           Jam  Cookies   NaN   NaN   NaN   NaN   NaN   NaN   \n",
              "\n",
              "  col_10 col_11 col_12  \n",
              "0    NaN    NaN    NaN  \n",
              "1    NaN    NaN    NaN  "
            ],
            "text/html": [
              "\n",
              "  <div id=\"df-505f388c-fe8f-42fa-8c8a-1ce0c9baf7fb\">\n",
              "    <div class=\"colab-df-container\">\n",
              "      <div>\n",
              "<style scoped>\n",
              "    .dataframe tbody tr th:only-of-type {\n",
              "        vertical-align: middle;\n",
              "    }\n",
              "\n",
              "    .dataframe tbody tr th {\n",
              "        vertical-align: top;\n",
              "    }\n",
              "\n",
              "    .dataframe thead th {\n",
              "        text-align: right;\n",
              "    }\n",
              "</style>\n",
              "<table border=\"1\" class=\"dataframe\">\n",
              "  <thead>\n",
              "    <tr style=\"text-align: right;\">\n",
              "      <th></th>\n",
              "      <th>col_1</th>\n",
              "      <th>col_2</th>\n",
              "      <th>col_3</th>\n",
              "      <th>col_4</th>\n",
              "      <th>col_5</th>\n",
              "      <th>col_6</th>\n",
              "      <th>col_7</th>\n",
              "      <th>col_8</th>\n",
              "      <th>col_9</th>\n",
              "      <th>col_10</th>\n",
              "      <th>col_11</th>\n",
              "      <th>col_12</th>\n",
              "    </tr>\n",
              "  </thead>\n",
              "  <tbody>\n",
              "    <tr>\n",
              "      <th>0</th>\n",
              "      <td>Scandinavian</td>\n",
              "      <td>Scandinavian</td>\n",
              "      <td>NaN</td>\n",
              "      <td>NaN</td>\n",
              "      <td>NaN</td>\n",
              "      <td>NaN</td>\n",
              "      <td>NaN</td>\n",
              "      <td>NaN</td>\n",
              "      <td>NaN</td>\n",
              "      <td>NaN</td>\n",
              "      <td>NaN</td>\n",
              "      <td>NaN</td>\n",
              "    </tr>\n",
              "    <tr>\n",
              "      <th>1</th>\n",
              "      <td>Hot chocolate</td>\n",
              "      <td>Jam</td>\n",
              "      <td>Cookies</td>\n",
              "      <td>NaN</td>\n",
              "      <td>NaN</td>\n",
              "      <td>NaN</td>\n",
              "      <td>NaN</td>\n",
              "      <td>NaN</td>\n",
              "      <td>NaN</td>\n",
              "      <td>NaN</td>\n",
              "      <td>NaN</td>\n",
              "      <td>NaN</td>\n",
              "    </tr>\n",
              "  </tbody>\n",
              "</table>\n",
              "</div>\n",
              "      <button class=\"colab-df-convert\" onclick=\"convertToInteractive('df-505f388c-fe8f-42fa-8c8a-1ce0c9baf7fb')\"\n",
              "              title=\"Convert this dataframe to an interactive table.\"\n",
              "              style=\"display:none;\">\n",
              "        \n",
              "  <svg xmlns=\"http://www.w3.org/2000/svg\" height=\"24px\"viewBox=\"0 0 24 24\"\n",
              "       width=\"24px\">\n",
              "    <path d=\"M0 0h24v24H0V0z\" fill=\"none\"/>\n",
              "    <path d=\"M18.56 5.44l.94 2.06.94-2.06 2.06-.94-2.06-.94-.94-2.06-.94 2.06-2.06.94zm-11 1L8.5 8.5l.94-2.06 2.06-.94-2.06-.94L8.5 2.5l-.94 2.06-2.06.94zm10 10l.94 2.06.94-2.06 2.06-.94-2.06-.94-.94-2.06-.94 2.06-2.06.94z\"/><path d=\"M17.41 7.96l-1.37-1.37c-.4-.4-.92-.59-1.43-.59-.52 0-1.04.2-1.43.59L10.3 9.45l-7.72 7.72c-.78.78-.78 2.05 0 2.83L4 21.41c.39.39.9.59 1.41.59.51 0 1.02-.2 1.41-.59l7.78-7.78 2.81-2.81c.8-.78.8-2.07 0-2.86zM5.41 20L4 18.59l7.72-7.72 1.47 1.35L5.41 20z\"/>\n",
              "  </svg>\n",
              "      </button>\n",
              "      \n",
              "  <style>\n",
              "    .colab-df-container {\n",
              "      display:flex;\n",
              "      flex-wrap:wrap;\n",
              "      gap: 12px;\n",
              "    }\n",
              "\n",
              "    .colab-df-convert {\n",
              "      background-color: #E8F0FE;\n",
              "      border: none;\n",
              "      border-radius: 50%;\n",
              "      cursor: pointer;\n",
              "      display: none;\n",
              "      fill: #1967D2;\n",
              "      height: 32px;\n",
              "      padding: 0 0 0 0;\n",
              "      width: 32px;\n",
              "    }\n",
              "\n",
              "    .colab-df-convert:hover {\n",
              "      background-color: #E2EBFA;\n",
              "      box-shadow: 0px 1px 2px rgba(60, 64, 67, 0.3), 0px 1px 3px 1px rgba(60, 64, 67, 0.15);\n",
              "      fill: #174EA6;\n",
              "    }\n",
              "\n",
              "    [theme=dark] .colab-df-convert {\n",
              "      background-color: #3B4455;\n",
              "      fill: #D2E3FC;\n",
              "    }\n",
              "\n",
              "    [theme=dark] .colab-df-convert:hover {\n",
              "      background-color: #434B5C;\n",
              "      box-shadow: 0px 1px 3px 1px rgba(0, 0, 0, 0.15);\n",
              "      filter: drop-shadow(0px 1px 2px rgba(0, 0, 0, 0.3));\n",
              "      fill: #FFFFFF;\n",
              "    }\n",
              "  </style>\n",
              "\n",
              "      <script>\n",
              "        const buttonEl =\n",
              "          document.querySelector('#df-505f388c-fe8f-42fa-8c8a-1ce0c9baf7fb button.colab-df-convert');\n",
              "        buttonEl.style.display =\n",
              "          google.colab.kernel.accessAllowed ? 'block' : 'none';\n",
              "\n",
              "        async function convertToInteractive(key) {\n",
              "          const element = document.querySelector('#df-505f388c-fe8f-42fa-8c8a-1ce0c9baf7fb');\n",
              "          const dataTable =\n",
              "            await google.colab.kernel.invokeFunction('convertToInteractive',\n",
              "                                                     [key], {});\n",
              "          if (!dataTable) return;\n",
              "\n",
              "          const docLinkHtml = 'Like what you see? Visit the ' +\n",
              "            '<a target=\"_blank\" href=https://colab.research.google.com/notebooks/data_table.ipynb>data table notebook</a>'\n",
              "            + ' to learn more about interactive tables.';\n",
              "          element.innerHTML = '';\n",
              "          dataTable['output_type'] = 'display_data';\n",
              "          await google.colab.output.renderOutput(dataTable, element);\n",
              "          const docLink = document.createElement('div');\n",
              "          docLink.innerHTML = docLinkHtml;\n",
              "          element.appendChild(docLink);\n",
              "        }\n",
              "      </script>\n",
              "    </div>\n",
              "  </div>\n",
              "  "
            ]
          },
          "metadata": {},
          "execution_count": 12
        }
      ]
    },
    {
      "cell_type": "code",
      "source": [
        "products_dict = {}\n",
        "products.extend([None for i in range(11)])\n",
        "for i, item in zip(range(1, 13), products):\n",
        "  products_dict[f'col_{i}'] = item\n",
        "\n",
        "df = df.append(products_dict, ignore_index=True)"
      ],
      "metadata": {
        "id": "3xhPqrX_5Fbu"
      },
      "execution_count": 14,
      "outputs": []
    },
    {
      "cell_type": "code",
      "source": [
        "df.head(2)"
      ],
      "metadata": {
        "colab": {
          "base_uri": "https://localhost:8080/",
          "height": 112
        },
        "id": "E25pAAIFHR1x",
        "outputId": "11cb678d-4b80-47c0-8243-efdf690b9a89"
      },
      "execution_count": 15,
      "outputs": [
        {
          "output_type": "execute_result",
          "data": {
            "text/plain": [
              "           col_1         col_2    col_3 col_4 col_5 col_6 col_7 col_8 col_9  \\\n",
              "0   Scandinavian  Scandinavian      NaN   NaN   NaN   NaN   NaN   NaN   NaN   \n",
              "1  Hot chocolate           Jam  Cookies   NaN   NaN   NaN   NaN   NaN   NaN   \n",
              "\n",
              "  col_10 col_11 col_12  \n",
              "0    NaN    NaN    NaN  \n",
              "1    NaN    NaN    NaN  "
            ],
            "text/html": [
              "\n",
              "  <div id=\"df-31ed420f-c238-497f-8179-e9d4c4e878f3\">\n",
              "    <div class=\"colab-df-container\">\n",
              "      <div>\n",
              "<style scoped>\n",
              "    .dataframe tbody tr th:only-of-type {\n",
              "        vertical-align: middle;\n",
              "    }\n",
              "\n",
              "    .dataframe tbody tr th {\n",
              "        vertical-align: top;\n",
              "    }\n",
              "\n",
              "    .dataframe thead th {\n",
              "        text-align: right;\n",
              "    }\n",
              "</style>\n",
              "<table border=\"1\" class=\"dataframe\">\n",
              "  <thead>\n",
              "    <tr style=\"text-align: right;\">\n",
              "      <th></th>\n",
              "      <th>col_1</th>\n",
              "      <th>col_2</th>\n",
              "      <th>col_3</th>\n",
              "      <th>col_4</th>\n",
              "      <th>col_5</th>\n",
              "      <th>col_6</th>\n",
              "      <th>col_7</th>\n",
              "      <th>col_8</th>\n",
              "      <th>col_9</th>\n",
              "      <th>col_10</th>\n",
              "      <th>col_11</th>\n",
              "      <th>col_12</th>\n",
              "    </tr>\n",
              "  </thead>\n",
              "  <tbody>\n",
              "    <tr>\n",
              "      <th>0</th>\n",
              "      <td>Scandinavian</td>\n",
              "      <td>Scandinavian</td>\n",
              "      <td>NaN</td>\n",
              "      <td>NaN</td>\n",
              "      <td>NaN</td>\n",
              "      <td>NaN</td>\n",
              "      <td>NaN</td>\n",
              "      <td>NaN</td>\n",
              "      <td>NaN</td>\n",
              "      <td>NaN</td>\n",
              "      <td>NaN</td>\n",
              "      <td>NaN</td>\n",
              "    </tr>\n",
              "    <tr>\n",
              "      <th>1</th>\n",
              "      <td>Hot chocolate</td>\n",
              "      <td>Jam</td>\n",
              "      <td>Cookies</td>\n",
              "      <td>NaN</td>\n",
              "      <td>NaN</td>\n",
              "      <td>NaN</td>\n",
              "      <td>NaN</td>\n",
              "      <td>NaN</td>\n",
              "      <td>NaN</td>\n",
              "      <td>NaN</td>\n",
              "      <td>NaN</td>\n",
              "      <td>NaN</td>\n",
              "    </tr>\n",
              "  </tbody>\n",
              "</table>\n",
              "</div>\n",
              "      <button class=\"colab-df-convert\" onclick=\"convertToInteractive('df-31ed420f-c238-497f-8179-e9d4c4e878f3')\"\n",
              "              title=\"Convert this dataframe to an interactive table.\"\n",
              "              style=\"display:none;\">\n",
              "        \n",
              "  <svg xmlns=\"http://www.w3.org/2000/svg\" height=\"24px\"viewBox=\"0 0 24 24\"\n",
              "       width=\"24px\">\n",
              "    <path d=\"M0 0h24v24H0V0z\" fill=\"none\"/>\n",
              "    <path d=\"M18.56 5.44l.94 2.06.94-2.06 2.06-.94-2.06-.94-.94-2.06-.94 2.06-2.06.94zm-11 1L8.5 8.5l.94-2.06 2.06-.94-2.06-.94L8.5 2.5l-.94 2.06-2.06.94zm10 10l.94 2.06.94-2.06 2.06-.94-2.06-.94-.94-2.06-.94 2.06-2.06.94z\"/><path d=\"M17.41 7.96l-1.37-1.37c-.4-.4-.92-.59-1.43-.59-.52 0-1.04.2-1.43.59L10.3 9.45l-7.72 7.72c-.78.78-.78 2.05 0 2.83L4 21.41c.39.39.9.59 1.41.59.51 0 1.02-.2 1.41-.59l7.78-7.78 2.81-2.81c.8-.78.8-2.07 0-2.86zM5.41 20L4 18.59l7.72-7.72 1.47 1.35L5.41 20z\"/>\n",
              "  </svg>\n",
              "      </button>\n",
              "      \n",
              "  <style>\n",
              "    .colab-df-container {\n",
              "      display:flex;\n",
              "      flex-wrap:wrap;\n",
              "      gap: 12px;\n",
              "    }\n",
              "\n",
              "    .colab-df-convert {\n",
              "      background-color: #E8F0FE;\n",
              "      border: none;\n",
              "      border-radius: 50%;\n",
              "      cursor: pointer;\n",
              "      display: none;\n",
              "      fill: #1967D2;\n",
              "      height: 32px;\n",
              "      padding: 0 0 0 0;\n",
              "      width: 32px;\n",
              "    }\n",
              "\n",
              "    .colab-df-convert:hover {\n",
              "      background-color: #E2EBFA;\n",
              "      box-shadow: 0px 1px 2px rgba(60, 64, 67, 0.3), 0px 1px 3px 1px rgba(60, 64, 67, 0.15);\n",
              "      fill: #174EA6;\n",
              "    }\n",
              "\n",
              "    [theme=dark] .colab-df-convert {\n",
              "      background-color: #3B4455;\n",
              "      fill: #D2E3FC;\n",
              "    }\n",
              "\n",
              "    [theme=dark] .colab-df-convert:hover {\n",
              "      background-color: #434B5C;\n",
              "      box-shadow: 0px 1px 3px 1px rgba(0, 0, 0, 0.15);\n",
              "      filter: drop-shadow(0px 1px 2px rgba(0, 0, 0, 0.3));\n",
              "      fill: #FFFFFF;\n",
              "    }\n",
              "  </style>\n",
              "\n",
              "      <script>\n",
              "        const buttonEl =\n",
              "          document.querySelector('#df-31ed420f-c238-497f-8179-e9d4c4e878f3 button.colab-df-convert');\n",
              "        buttonEl.style.display =\n",
              "          google.colab.kernel.accessAllowed ? 'block' : 'none';\n",
              "\n",
              "        async function convertToInteractive(key) {\n",
              "          const element = document.querySelector('#df-31ed420f-c238-497f-8179-e9d4c4e878f3');\n",
              "          const dataTable =\n",
              "            await google.colab.kernel.invokeFunction('convertToInteractive',\n",
              "                                                     [key], {});\n",
              "          if (!dataTable) return;\n",
              "\n",
              "          const docLinkHtml = 'Like what you see? Visit the ' +\n",
              "            '<a target=\"_blank\" href=https://colab.research.google.com/notebooks/data_table.ipynb>data table notebook</a>'\n",
              "            + ' to learn more about interactive tables.';\n",
              "          element.innerHTML = '';\n",
              "          dataTable['output_type'] = 'display_data';\n",
              "          await google.colab.output.renderOutput(dataTable, element);\n",
              "          const docLink = document.createElement('div');\n",
              "          docLink.innerHTML = docLinkHtml;\n",
              "          element.appendChild(docLink);\n",
              "        }\n",
              "      </script>\n",
              "    </div>\n",
              "  </div>\n",
              "  "
            ]
          },
          "metadata": {},
          "execution_count": 15
        }
      ]
    },
    {
      "cell_type": "code",
      "source": [
        "df.isna().sum()"
      ],
      "metadata": {
        "colab": {
          "base_uri": "https://localhost:8080/"
        },
        "id": "ZFQzRsY66uYo",
        "outputId": "b794a090-c7b8-4028-a0ab-8ac5e09e5282"
      },
      "execution_count": 16,
      "outputs": [
        {
          "output_type": "execute_result",
          "data": {
            "text/plain": [
              "col_1      323\n",
              "col_2     3691\n",
              "col_3     6572\n",
              "col_4     8026\n",
              "col_5     8935\n",
              "col_6     9286\n",
              "col_7     9440\n",
              "col_8     9495\n",
              "col_9     9518\n",
              "col_10    9522\n",
              "col_11    9527\n",
              "col_12    9530\n",
              "dtype: int64"
            ]
          },
          "metadata": {},
          "execution_count": 16
        }
      ]
    },
    {
      "cell_type": "code",
      "source": [
        "df.stack().value_counts(normalize=True)[:20].plot(kind='bar', figsize=(10, 5), colormap='coolwarm');"
      ],
      "metadata": {
        "colab": {
          "base_uri": "https://localhost:8080/",
          "height": 379
        },
        "id": "eOmi6UjS7pYb",
        "outputId": "fdc14ad6-ce23-470f-a1b6-5402356659d4"
      },
      "execution_count": 17,
      "outputs": [
        {
          "output_type": "display_data",
          "data": {
            "text/plain": [
              "<Figure size 720x360 with 1 Axes>"
            ],
            "image/png": "[encoded data removed]"
          },
          "metadata": {
            "needs_background": "light"
          }
        }
      ]
    },
    {
      "cell_type": "code",
      "source": [
        "df.stack().value_counts()[:20].plot(kind='bar', figsize=(10, 5), colormap='tab10');"
      ],
      "metadata": {
        "colab": {
          "base_uri": "https://localhost:8080/",
          "height": 379
        },
        "id": "Uw88UOCs7g-u",
        "outputId": "717b0864-9962-4b4e-d1eb-fdb1e59ac208"
      },
      "execution_count": 18,
      "outputs": [
        {
          "output_type": "display_data",
          "data": {
            "text/plain": [
              "<Figure size 720x360 with 1 Axes>"
            ],
            "image/png": "[encoded data removed]"
          },
          "metadata": {
            "needs_background": "light"
          }
        }
      ]
    },
    {
      "cell_type": "markdown",
      "source": [
        "## Реализация алгоритмов ассоциативных правил (ARL)"
      ],
      "metadata": {
        "id": "lZo6oMVc8-xa"
      }
    },
    {
      "cell_type": "code",
      "source": [
        "transactions = []\n",
        "for i in range(df.shape[0]):\n",
        "  row = df.iloc[i].dropna().tolist()\n",
        "  transactions.append(row)"
      ],
      "metadata": {
        "id": "nDgGGcUM7sRb"
      },
      "execution_count": 19,
      "outputs": []
    },
    {
      "cell_type": "code",
      "source": [
        "transactions[0]"
      ],
      "metadata": {
        "colab": {
          "base_uri": "https://localhost:8080/"
        },
        "id": "Kw7oTEsE9F7z",
        "outputId": "324d9dbb-21d6-44fe-9940-a015c2247c13"
      },
      "execution_count": 20,
      "outputs": [
        {
          "output_type": "execute_result",
          "data": {
            "text/plain": [
              "['Scandinavian', 'Scandinavian']"
            ]
          },
          "metadata": {},
          "execution_count": 20
        }
      ]
    },
    {
      "cell_type": "markdown",
      "source": [
        "### apriori_python\n",
        "\n",
        "minSup – это минимальная поддержка\n",
        "\n",
        "minConf – минимальная достоверность"
      ],
      "metadata": {
        "id": "NZqgDBCR9g4a"
      }
    },
    {
      "cell_type": "code",
      "source": [
        "!pip install --quiet apriori_python"
      ],
      "metadata": {
        "id": "QnPfWck-EF58"
      },
      "execution_count": 21,
      "outputs": []
    },
    {
      "cell_type": "code",
      "source": [
        "from apriori_python import apriori"
      ],
      "metadata": {
        "id": "z0Xj43OkEGmH"
      },
      "execution_count": 22,
      "outputs": []
    },
    {
      "cell_type": "code",
      "source": [
        "t = []\n",
        "start = time.perf_counter()\n",
        "\n",
        "t1, rules = apriori(transactions, minSup = 0.04, minConf = 0.33)\n",
        "time1 = time.perf_counter() - start\n",
        "t.append(time1)"
      ],
      "metadata": {
        "id": "PbywiFfr9cPy"
      },
      "execution_count": 23,
      "outputs": []
    },
    {
      "cell_type": "code",
      "source": [
        "rules"
      ],
      "metadata": {
        "colab": {
          "base_uri": "https://localhost:8080/"
        },
        "id": "e_1751CW-Wpe",
        "outputId": "9e2f17de-3e9c-42df-af75-110a52bda18d"
      },
      "execution_count": 24,
      "outputs": [
        {
          "output_type": "execute_result",
          "data": {
            "text/plain": [
              "[[{'Tea'}, {'Coffee'}, 0.3496296296296296],\n",
              " [{'Cake'}, {'Coffee'}, 0.5269582909460834],\n",
              " [{'Pastry'}, {'Coffee'}, 0.5521472392638037]]"
            ]
          },
          "metadata": {},
          "execution_count": 24
        }
      ]
    },
    {
      "cell_type": "markdown",
      "source": [
        "### apyori"
      ],
      "metadata": {
        "id": "3hrUShG_Ak9X"
      }
    },
    {
      "cell_type": "code",
      "source": [
        "!pip install --quiet apyori"
      ],
      "metadata": {
        "id": "PZltex5VAmq3",
        "colab": {
          "base_uri": "https://localhost:8080/"
        },
        "outputId": "a2b71931-e3f9-498d-a797-4dcbf9cc00c6"
      },
      "execution_count": 25,
      "outputs": [
        {
          "output_type": "stream",
          "name": "stdout",
          "text": [
            "  Building wheel for apyori (setup.py) ... \u001b[?25l\u001b[?25hdone\n"
          ]
        }
      ]
    },
    {
      "cell_type": "code",
      "source": [
        "from apyori import apriori"
      ],
      "metadata": {
        "id": "lJ2_-kxvAtky"
      },
      "execution_count": 26,
      "outputs": []
    },
    {
      "cell_type": "code",
      "source": [
        "start = time.perf_counter()\n",
        "lift = 1 + 1e-20\n",
        "\n",
        "rules = apriori(transactions, minSup = 0.02, minConf = 0.04, min_lift=lift)\n",
        "time2 = time.perf_counter() - start\n",
        "t.append(time2)"
      ],
      "metadata": {
        "id": "R_GjqJNUAzL-"
      },
      "execution_count": 27,
      "outputs": []
    },
    {
      "cell_type": "code",
      "source": [
        "rules = list(rules)\n",
        "for rule in rules:\n",
        "  for subset in rule[2]:\n",
        "    print(subset[0], subset[1])\n",
        "    print('Support: {0}; Confidence: {1}; Lift: {2}'.format(rule[1], subset[2], subset[3]))\n",
        "    print('----------------------------------------------------------------------------')"
      ],
      "metadata": {
        "colab": {
          "base_uri": "https://localhost:8080/"
        },
        "id": "QwHZN8frBK8h",
        "outputId": "66718e6d-7a5e-4966-a5ef-86bd73694b8d"
      },
      "execution_count": 28,
      "outputs": [
        {
          "output_type": "stream",
          "name": "stdout",
          "text": [
            "frozenset() frozenset({'Bread'})\n",
            "Support: 0.3249396705487357; Confidence: 0.3249396705487357; Lift: 1.0\n",
            "----------------------------------------------------------------------------\n",
            "frozenset() frozenset({'Cake'})\n",
            "Support: 0.10313713146574337; Confidence: 0.10313713146574337; Lift: 1.0\n",
            "----------------------------------------------------------------------------\n",
            "frozenset() frozenset({'Coffee'})\n",
            "Support: 0.4750813136082258; Confidence: 0.4750813136082258; Lift: 1.0\n",
            "----------------------------------------------------------------------------\n",
            "frozenset() frozenset({'Tea'})\n",
            "Support: 0.141643059490085; Confidence: 0.141643059490085; Lift: 1.0\n",
            "----------------------------------------------------------------------------\n"
          ]
        }
      ]
    },
    {
      "cell_type": "markdown",
      "source": [
        "Все правила получились независимыми."
      ],
      "metadata": {
        "id": "Ot4y6_CoDApR"
      }
    },
    {
      "cell_type": "markdown",
      "source": [
        "### efficient_apriori"
      ],
      "metadata": {
        "id": "WhwYevvQDIau"
      }
    },
    {
      "cell_type": "code",
      "source": [
        "!pip install --quiet efficient_apriori"
      ],
      "metadata": {
        "id": "FN38IpDYDLkD"
      },
      "execution_count": 29,
      "outputs": []
    },
    {
      "cell_type": "code",
      "source": [
        "from efficient_apriori import apriori"
      ],
      "metadata": {
        "id": "1NzjU6P3C6J1"
      },
      "execution_count": 31,
      "outputs": []
    },
    {
      "cell_type": "code",
      "source": [
        "start = time.perf_counter()\n",
        "\n",
        "itemsets, rules = apriori(transactions, min_support=0.03, min_confidence=0.33)\n",
        "time3 = time.perf_counter() - start\n",
        "t.append(time3)"
      ],
      "metadata": {
        "id": "DUBBb2mRDQWV"
      },
      "execution_count": 32,
      "outputs": []
    },
    {
      "cell_type": "code",
      "source": [
        "for i in range(len(rules)):\n",
        "  print(rules[i])"
      ],
      "metadata": {
        "colab": {
          "base_uri": "https://localhost:8080/"
        },
        "id": "VJxkFD61DkiM",
        "outputId": "c556a708-ea8d-4d9c-d5e0-5d1d4b21a906"
      },
      "execution_count": 33,
      "outputs": [
        {
          "output_type": "stream",
          "name": "stdout",
          "text": [
            "{Cake} -> {Coffee} (conf: 0.527, supp: 0.054, lift: 1.109, conv: 1.110)\n",
            "{Medialuna} -> {Coffee} (conf: 0.569, supp: 0.035, lift: 1.198, conv: 1.219)\n",
            "{Pastry} -> {Coffee} (conf: 0.552, supp: 0.047, lift: 1.162, conv: 1.172)\n",
            "{Sandwich} -> {Coffee} (conf: 0.532, supp: 0.038, lift: 1.121, conv: 1.122)\n",
            "{Tea} -> {Coffee} (conf: 0.350, supp: 0.050, lift: 0.736, conv: 0.807)\n"
          ]
        }
      ]
    },
    {
      "cell_type": "markdown",
      "source": [
        "### fpgrowth_py"
      ],
      "metadata": {
        "id": "PkprDvi9EQMI"
      }
    },
    {
      "cell_type": "code",
      "source": [
        "!pip install --quiet fpgrowth_py"
      ],
      "metadata": {
        "id": "m_l3LIVvEUnt"
      },
      "execution_count": 34,
      "outputs": []
    },
    {
      "cell_type": "code",
      "source": [
        "from fpgrowth_py import fpgrowth"
      ],
      "metadata": {
        "id": "MBZqk0_BEXUy"
      },
      "execution_count": 35,
      "outputs": []
    },
    {
      "cell_type": "code",
      "source": [
        "start = time.perf_counter()\n",
        "\n",
        "itemsets, rules = fpgrowth(transactions, minSupRatio=0.03, minConf=0.33)\n",
        "time4 = time.perf_counter() - start\n",
        "t.append(time4)"
      ],
      "metadata": {
        "id": "gjSAPqj6EaSd"
      },
      "execution_count": 36,
      "outputs": []
    },
    {
      "cell_type": "code",
      "source": [
        "for i in range(len(rules)):\n",
        "  print(rules[i])"
      ],
      "metadata": {
        "colab": {
          "base_uri": "https://localhost:8080/"
        },
        "id": "pFUjG1moEqt7",
        "outputId": "4e828e96-7454-4093-a7d1-61f7afc9469a"
      },
      "execution_count": 37,
      "outputs": [
        {
          "output_type": "stream",
          "name": "stdout",
          "text": [
            "[{'Toast'}, {'Coffee'}, 0.7044025157232704]\n",
            "[{'Cookies'}, {'Coffee'}, 0.5184466019417475]\n",
            "[{'Hot chocolate'}, {'Coffee'}, 0.5072463768115942]\n",
            "[{'Medialuna'}, {'Coffee'}, 0.5692307692307692]\n",
            "[{'Sandwich'}, {'Coffee'}, 0.5323529411764706]\n",
            "[{'Pastry'}, {'Bread'}, 0.33865030674846625]\n",
            "[{'Pastry'}, {'Coffee'}, 0.5521472392638037]\n",
            "[{'Cake'}, {'Coffee'}, 0.5269582909460834]\n",
            "[{'Tea'}, {'Coffee'}, 0.3496296296296296]\n"
          ]
        }
      ]
    },
    {
      "cell_type": "markdown",
      "source": [
        "## Время выполнения алгоритмов"
      ],
      "metadata": {
        "id": "GiiGcnTPEt-z"
      }
    },
    {
      "cell_type": "code",
      "source": [
        "print('Время выполнения алгоритмов apriori:')\n",
        "print(f'apriori_python: {t[0]}')\n",
        "print(f'apyori: {t[1]}')\n",
        "print(f'efficient_apriori: {t[2]}')\n",
        "print('Время выполнения алгоритма fpgrowth:')\n",
        "print(f'fpgrowth_py: {t[3]}')\n",
        "\n",
        "plt.bar(['apriori_python', 'apyori', 'efficient_apriori', 'fpgrowth_py'], t)\n",
        "plt.show()"
      ],
      "metadata": {
        "colab": {
          "base_uri": "https://localhost:8080/",
          "height": 370
        },
        "id": "r0sq9u6-Ewnx",
        "outputId": "eb685882-11d7-4a9d-f197-cbb8d48578d4"
      },
      "execution_count": 38,
      "outputs": [
        {
          "output_type": "stream",
          "name": "stdout",
          "text": [
            "Время выполнения алгоритмов apriori:\n",
            "apriori_python: 0.357488146000037\n",
            "apyori: 0.00013167999998131563\n",
            "efficient_apriori: 0.02120766600000934\n",
            "Время выполнения алгоритма fpgrowth:\n",
            "fpgrowth_py: 0.24335000100001025\n"
          ]
        },
        {
          "output_type": "display_data",
          "data": {
            "text/plain": [
              "<Figure size 432x288 with 1 Axes>"
            ],
            "image/png": "[encoded data removed]"
          },
          "metadata": {
            "needs_background": "light"
          }
        }
      ]
    }
  ]
}