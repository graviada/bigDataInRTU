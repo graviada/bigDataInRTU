{
  "nbformat": 4,
  "nbformat_minor": 0,
  "metadata": {
    "colab": {
      "provenance": []
    },
    "kernelspec": {
      "name": "python3",
      "display_name": "Python 3"
    },
    "language_info": {
      "name": "python"
    }
  },
  "cells": [
    {
      "cell_type": "markdown",
      "source": [
        "### Задания\n",
        "1. Загрузить данные Market_Basket_Optimisation.csv.\n",
        "\n",
        "2. Визуализировать данные (отразить на гистограммах относительную и \n",
        "фактическую частоту встречаемости для 20 наиболее популярных \n",
        "товаров). \n",
        "\n",
        "3. Применить алгоритм Apriori, используя 3 разные библиотеки\n",
        "(apriori_python, apyori, efficient_apriori).\n",
        "\n",
        "4. Применить алгоритм FP-Growth из библиотеки fpgrowth_py.\n",
        "\n",
        "5. Сравнить время выполнения всех алгоритмов и построить гистограмму.\n",
        "\n",
        "6. Загрузить данные data.csv.\n",
        "\n",
        "7. Визуализировать данные (отразить на гистограммах относительную и \n",
        "фактическую частоту встречаемости для 20 наиболее популярных \n",
        "товаров).\n",
        "\n",
        "8. Применить алгоритм Apriori, используя 3 разные библиотеки\n",
        "(apriori_python, apyori, efficient_apriori).\n",
        "\n",
        "9. Применить алгоритм FP-Growth из библиотеки fpgrowth_py.\n",
        "\n",
        "10. Сравнить время выполнения всех алгоритмов и построить гистограмму"
      ],
      "metadata": {
        "id": "h2leqaeLPkM9"
      }
    },
    {
      "cell_type": "markdown",
      "source": [
        "## Загрузка пакетов и импорт библиотек"
      ],
      "metadata": {
        "id": "O3AR3K1BPto2"
      }
    },
    {
      "cell_type": "code",
      "execution_count": null,
      "metadata": {
        "id": "CU17JQssPipA"
      },
      "outputs": [],
      "source": [
        "import time\n",
        "import pandas as pd\n",
        "\n",
        "import matplotlib.pyplot as plt"
      ]
    },
    {
      "cell_type": "markdown",
      "source": [
        "## Загрузка и обработка данных"
      ],
      "metadata": {
        "id": "0KBYqQeGQF2X"
      }
    },
    {
      "cell_type": "code",
      "source": [
        "df = pd.read_csv('/content/Market_Basket_Optimisation.csv')\n",
        "print(df.shape)\n",
        "df.head(3)"
      ],
      "metadata": {
        "colab": {
          "base_uri": "https://localhost:8080/",
          "height": 259
        },
        "id": "-O2ucB7-QQpi",
        "outputId": "048142d5-d699-40ac-d2a7-fc142b56179a"
      },
      "execution_count": null,
      "outputs": [
        {
          "output_type": "stream",
          "name": "stdout",
          "text": [
            "(7500, 20)\n"
          ]
        },
        {
          "output_type": "execute_result",
          "data": {
            "text/plain": [
              "    shrimp    almonds avocado vegetables mix green grapes whole weat flour  \\\n",
              "0  burgers  meatballs    eggs            NaN          NaN              NaN   \n",
              "1  chutney        NaN     NaN            NaN          NaN              NaN   \n",
              "2   turkey    avocado     NaN            NaN          NaN              NaN   \n",
              "\n",
              "  yams cottage cheese energy drink tomato juice low fat yogurt green tea  \\\n",
              "0  NaN            NaN          NaN          NaN            NaN       NaN   \n",
              "1  NaN            NaN          NaN          NaN            NaN       NaN   \n",
              "2  NaN            NaN          NaN          NaN            NaN       NaN   \n",
              "\n",
              "  honey salad mineral water salmon antioxydant juice frozen smoothie spinach  \\\n",
              "0   NaN   NaN           NaN    NaN               NaN             NaN     NaN   \n",
              "1   NaN   NaN           NaN    NaN               NaN             NaN     NaN   \n",
              "2   NaN   NaN           NaN    NaN               NaN             NaN     NaN   \n",
              "\n",
              "   olive oil  \n",
              "0        NaN  \n",
              "1        NaN  \n",
              "2        NaN  "
            ],
            "text/html": [
              "\n",
              "  <div id=\"df-ff9be39d-c8c5-4e93-8729-07e05b492e52\">\n",
              "    <div class=\"colab-df-container\">\n",
              "      <div>\n",
              "<style scoped>\n",
              "    .dataframe tbody tr th:only-of-type {\n",
              "        vertical-align: middle;\n",
              "    }\n",
              "\n",
              "    .dataframe tbody tr th {\n",
              "        vertical-align: top;\n",
              "    }\n",
              "\n",
              "    .dataframe thead th {\n",
              "        text-align: right;\n",
              "    }\n",
              "</style>\n",
              "<table border=\"1\" class=\"dataframe\">\n",
              "  <thead>\n",
              "    <tr style=\"text-align: right;\">\n",
              "      <th></th>\n",
              "      <th>shrimp</th>\n",
              "      <th>almonds</th>\n",
              "      <th>avocado</th>\n",
              "      <th>vegetables mix</th>\n",
              "      <th>green grapes</th>\n",
              "      <th>whole weat flour</th>\n",
              "      <th>yams</th>\n",
              "      <th>cottage cheese</th>\n",
              "      <th>energy drink</th>\n",
              "      <th>tomato juice</th>\n",
              "      <th>low fat yogurt</th>\n",
              "      <th>green tea</th>\n",
              "      <th>honey</th>\n",
              "      <th>salad</th>\n",
              "      <th>mineral water</th>\n",
              "      <th>salmon</th>\n",
              "      <th>antioxydant juice</th>\n",
              "      <th>frozen smoothie</th>\n",
              "      <th>spinach</th>\n",
              "      <th>olive oil</th>\n",
              "    </tr>\n",
              "  </thead>\n",
              "  <tbody>\n",
              "    <tr>\n",
              "      <th>0</th>\n",
              "      <td>burgers</td>\n",
              "      <td>meatballs</td>\n",
              "      <td>eggs</td>\n",
              "      <td>NaN</td>\n",
              "      <td>NaN</td>\n",
              "      <td>NaN</td>\n",
              "      <td>NaN</td>\n",
              "      <td>NaN</td>\n",
              "      <td>NaN</td>\n",
              "      <td>NaN</td>\n",
              "      <td>NaN</td>\n",
              "      <td>NaN</td>\n",
              "      <td>NaN</td>\n",
              "      <td>NaN</td>\n",
              "      <td>NaN</td>\n",
              "      <td>NaN</td>\n",
              "      <td>NaN</td>\n",
              "      <td>NaN</td>\n",
              "      <td>NaN</td>\n",
              "      <td>NaN</td>\n",
              "    </tr>\n",
              "    <tr>\n",
              "      <th>1</th>\n",
              "      <td>chutney</td>\n",
              "      <td>NaN</td>\n",
              "      <td>NaN</td>\n",
              "      <td>NaN</td>\n",
              "      <td>NaN</td>\n",
              "      <td>NaN</td>\n",
              "      <td>NaN</td>\n",
              "      <td>NaN</td>\n",
              "      <td>NaN</td>\n",
              "      <td>NaN</td>\n",
              "      <td>NaN</td>\n",
              "      <td>NaN</td>\n",
              "      <td>NaN</td>\n",
              "      <td>NaN</td>\n",
              "      <td>NaN</td>\n",
              "      <td>NaN</td>\n",
              "      <td>NaN</td>\n",
              "      <td>NaN</td>\n",
              "      <td>NaN</td>\n",
              "      <td>NaN</td>\n",
              "    </tr>\n",
              "    <tr>\n",
              "      <th>2</th>\n",
              "      <td>turkey</td>\n",
              "      <td>avocado</td>\n",
              "      <td>NaN</td>\n",
              "      <td>NaN</td>\n",
              "      <td>NaN</td>\n",
              "      <td>NaN</td>\n",
              "      <td>NaN</td>\n",
              "      <td>NaN</td>\n",
              "      <td>NaN</td>\n",
              "      <td>NaN</td>\n",
              "      <td>NaN</td>\n",
              "      <td>NaN</td>\n",
              "      <td>NaN</td>\n",
              "      <td>NaN</td>\n",
              "      <td>NaN</td>\n",
              "      <td>NaN</td>\n",
              "      <td>NaN</td>\n",
              "      <td>NaN</td>\n",
              "      <td>NaN</td>\n",
              "      <td>NaN</td>\n",
              "    </tr>\n",
              "  </tbody>\n",
              "</table>\n",
              "</div>\n",
              "      <button class=\"colab-df-convert\" onclick=\"convertToInteractive('df-ff9be39d-c8c5-4e93-8729-07e05b492e52')\"\n",
              "              title=\"Convert this dataframe to an interactive table.\"\n",
              "              style=\"display:none;\">\n",
              "        \n",
              "  <svg xmlns=\"http://www.w3.org/2000/svg\" height=\"24px\"viewBox=\"0 0 24 24\"\n",
              "       width=\"24px\">\n",
              "    <path d=\"M0 0h24v24H0V0z\" fill=\"none\"/>\n",
              "    <path d=\"M18.56 5.44l.94 2.06.94-2.06 2.06-.94-2.06-.94-.94-2.06-.94 2.06-2.06.94zm-11 1L8.5 8.5l.94-2.06 2.06-.94-2.06-.94L8.5 2.5l-.94 2.06-2.06.94zm10 10l.94 2.06.94-2.06 2.06-.94-2.06-.94-.94-2.06-.94 2.06-2.06.94z\"/><path d=\"M17.41 7.96l-1.37-1.37c-.4-.4-.92-.59-1.43-.59-.52 0-1.04.2-1.43.59L10.3 9.45l-7.72 7.72c-.78.78-.78 2.05 0 2.83L4 21.41c.39.39.9.59 1.41.59.51 0 1.02-.2 1.41-.59l7.78-7.78 2.81-2.81c.8-.78.8-2.07 0-2.86zM5.41 20L4 18.59l7.72-7.72 1.47 1.35L5.41 20z\"/>\n",
              "  </svg>\n",
              "      </button>\n",
              "      \n",
              "  <style>\n",
              "    .colab-df-container {\n",
              "      display:flex;\n",
              "      flex-wrap:wrap;\n",
              "      gap: 12px;\n",
              "    }\n",
              "\n",
              "    .colab-df-convert {\n",
              "      background-color: #E8F0FE;\n",
              "      border: none;\n",
              "      border-radius: 50%;\n",
              "      cursor: pointer;\n",
              "      display: none;\n",
              "      fill: #1967D2;\n",
              "      height: 32px;\n",
              "      padding: 0 0 0 0;\n",
              "      width: 32px;\n",
              "    }\n",
              "\n",
              "    .colab-df-convert:hover {\n",
              "      background-color: #E2EBFA;\n",
              "      box-shadow: 0px 1px 2px rgba(60, 64, 67, 0.3), 0px 1px 3px 1px rgba(60, 64, 67, 0.15);\n",
              "      fill: #174EA6;\n",
              "    }\n",
              "\n",
              "    [theme=dark] .colab-df-convert {\n",
              "      background-color: #3B4455;\n",
              "      fill: #D2E3FC;\n",
              "    }\n",
              "\n",
              "    [theme=dark] .colab-df-convert:hover {\n",
              "      background-color: #434B5C;\n",
              "      box-shadow: 0px 1px 3px 1px rgba(0, 0, 0, 0.15);\n",
              "      filter: drop-shadow(0px 1px 2px rgba(0, 0, 0, 0.3));\n",
              "      fill: #FFFFFF;\n",
              "    }\n",
              "  </style>\n",
              "\n",
              "      <script>\n",
              "        const buttonEl =\n",
              "          document.querySelector('#df-ff9be39d-c8c5-4e93-8729-07e05b492e52 button.colab-df-convert');\n",
              "        buttonEl.style.display =\n",
              "          google.colab.kernel.accessAllowed ? 'block' : 'none';\n",
              "\n",
              "        async function convertToInteractive(key) {\n",
              "          const element = document.querySelector('#df-ff9be39d-c8c5-4e93-8729-07e05b492e52');\n",
              "          const dataTable =\n",
              "            await google.colab.kernel.invokeFunction('convertToInteractive',\n",
              "                                                     [key], {});\n",
              "          if (!dataTable) return;\n",
              "\n",
              "          const docLinkHtml = 'Like what you see? Visit the ' +\n",
              "            '<a target=\"_blank\" href=https://colab.research.google.com/notebooks/data_table.ipynb>data table notebook</a>'\n",
              "            + ' to learn more about interactive tables.';\n",
              "          element.innerHTML = '';\n",
              "          dataTable['output_type'] = 'display_data';\n",
              "          await google.colab.output.renderOutput(dataTable, element);\n",
              "          const docLink = document.createElement('div');\n",
              "          docLink.innerHTML = docLinkHtml;\n",
              "          element.appendChild(docLink);\n",
              "        }\n",
              "      </script>\n",
              "    </div>\n",
              "  </div>\n",
              "  "
            ]
          },
          "metadata": {},
          "execution_count": 11
        }
      ]
    },
    {
      "cell_type": "code",
      "source": [
        "products = df.columns.tolist()\n",
        "df.columns = [f'col_{i}' for i in range(1, 21)]\n",
        "df.head(2)"
      ],
      "metadata": {
        "colab": {
          "base_uri": "https://localhost:8080/",
          "height": 176
        },
        "id": "7FCow1GlQhkn",
        "outputId": "0d48011c-5f14-48b8-f440-bae12dda3c8f"
      },
      "execution_count": null,
      "outputs": [
        {
          "output_type": "execute_result",
          "data": {
            "text/plain": [
              "     col_1      col_2 col_3 col_4 col_5 col_6 col_7 col_8 col_9 col_10 col_11  \\\n",
              "0  burgers  meatballs  eggs   NaN   NaN   NaN   NaN   NaN   NaN    NaN    NaN   \n",
              "1  chutney        NaN   NaN   NaN   NaN   NaN   NaN   NaN   NaN    NaN    NaN   \n",
              "\n",
              "  col_12 col_13 col_14 col_15 col_16 col_17 col_18 col_19  col_20  \n",
              "0    NaN    NaN    NaN    NaN    NaN    NaN    NaN    NaN     NaN  \n",
              "1    NaN    NaN    NaN    NaN    NaN    NaN    NaN    NaN     NaN  "
            ],
            "text/html": [
              "\n",
              "  <div id=\"df-c3e7a19d-303f-4606-9395-98fdfe17d001\">\n",
              "    <div class=\"colab-df-container\">\n",
              "      <div>\n",
              "<style scoped>\n",
              "    .dataframe tbody tr th:only-of-type {\n",
              "        vertical-align: middle;\n",
              "    }\n",
              "\n",
              "    .dataframe tbody tr th {\n",
              "        vertical-align: top;\n",
              "    }\n",
              "\n",
              "    .dataframe thead th {\n",
              "        text-align: right;\n",
              "    }\n",
              "</style>\n",
              "<table border=\"1\" class=\"dataframe\">\n",
              "  <thead>\n",
              "    <tr style=\"text-align: right;\">\n",
              "      <th></th>\n",
              "      <th>col_1</th>\n",
              "      <th>col_2</th>\n",
              "      <th>col_3</th>\n",
              "      <th>col_4</th>\n",
              "      <th>col_5</th>\n",
              "      <th>col_6</th>\n",
              "      <th>col_7</th>\n",
              "      <th>col_8</th>\n",
              "      <th>col_9</th>\n",
              "      <th>col_10</th>\n",
              "      <th>col_11</th>\n",
              "      <th>col_12</th>\n",
              "      <th>col_13</th>\n",
              "      <th>col_14</th>\n",
              "      <th>col_15</th>\n",
              "      <th>col_16</th>\n",
              "      <th>col_17</th>\n",
              "      <th>col_18</th>\n",
              "      <th>col_19</th>\n",
              "      <th>col_20</th>\n",
              "    </tr>\n",
              "  </thead>\n",
              "  <tbody>\n",
              "    <tr>\n",
              "      <th>0</th>\n",
              "      <td>burgers</td>\n",
              "      <td>meatballs</td>\n",
              "      <td>eggs</td>\n",
              "      <td>NaN</td>\n",
              "      <td>NaN</td>\n",
              "      <td>NaN</td>\n",
              "      <td>NaN</td>\n",
              "      <td>NaN</td>\n",
              "      <td>NaN</td>\n",
              "      <td>NaN</td>\n",
              "      <td>NaN</td>\n",
              "      <td>NaN</td>\n",
              "      <td>NaN</td>\n",
              "      <td>NaN</td>\n",
              "      <td>NaN</td>\n",
              "      <td>NaN</td>\n",
              "      <td>NaN</td>\n",
              "      <td>NaN</td>\n",
              "      <td>NaN</td>\n",
              "      <td>NaN</td>\n",
              "    </tr>\n",
              "    <tr>\n",
              "      <th>1</th>\n",
              "      <td>chutney</td>\n",
              "      <td>NaN</td>\n",
              "      <td>NaN</td>\n",
              "      <td>NaN</td>\n",
              "      <td>NaN</td>\n",
              "      <td>NaN</td>\n",
              "      <td>NaN</td>\n",
              "      <td>NaN</td>\n",
              "      <td>NaN</td>\n",
              "      <td>NaN</td>\n",
              "      <td>NaN</td>\n",
              "      <td>NaN</td>\n",
              "      <td>NaN</td>\n",
              "      <td>NaN</td>\n",
              "      <td>NaN</td>\n",
              "      <td>NaN</td>\n",
              "      <td>NaN</td>\n",
              "      <td>NaN</td>\n",
              "      <td>NaN</td>\n",
              "      <td>NaN</td>\n",
              "    </tr>\n",
              "  </tbody>\n",
              "</table>\n",
              "</div>\n",
              "      <button class=\"colab-df-convert\" onclick=\"convertToInteractive('df-c3e7a19d-303f-4606-9395-98fdfe17d001')\"\n",
              "              title=\"Convert this dataframe to an interactive table.\"\n",
              "              style=\"display:none;\">\n",
              "        \n",
              "  <svg xmlns=\"http://www.w3.org/2000/svg\" height=\"24px\"viewBox=\"0 0 24 24\"\n",
              "       width=\"24px\">\n",
              "    <path d=\"M0 0h24v24H0V0z\" fill=\"none\"/>\n",
              "    <path d=\"M18.56 5.44l.94 2.06.94-2.06 2.06-.94-2.06-.94-.94-2.06-.94 2.06-2.06.94zm-11 1L8.5 8.5l.94-2.06 2.06-.94-2.06-.94L8.5 2.5l-.94 2.06-2.06.94zm10 10l.94 2.06.94-2.06 2.06-.94-2.06-.94-.94-2.06-.94 2.06-2.06.94z\"/><path d=\"M17.41 7.96l-1.37-1.37c-.4-.4-.92-.59-1.43-.59-.52 0-1.04.2-1.43.59L10.3 9.45l-7.72 7.72c-.78.78-.78 2.05 0 2.83L4 21.41c.39.39.9.59 1.41.59.51 0 1.02-.2 1.41-.59l7.78-7.78 2.81-2.81c.8-.78.8-2.07 0-2.86zM5.41 20L4 18.59l7.72-7.72 1.47 1.35L5.41 20z\"/>\n",
              "  </svg>\n",
              "      </button>\n",
              "      \n",
              "  <style>\n",
              "    .colab-df-container {\n",
              "      display:flex;\n",
              "      flex-wrap:wrap;\n",
              "      gap: 12px;\n",
              "    }\n",
              "\n",
              "    .colab-df-convert {\n",
              "      background-color: #E8F0FE;\n",
              "      border: none;\n",
              "      border-radius: 50%;\n",
              "      cursor: pointer;\n",
              "      display: none;\n",
              "      fill: #1967D2;\n",
              "      height: 32px;\n",
              "      padding: 0 0 0 0;\n",
              "      width: 32px;\n",
              "    }\n",
              "\n",
              "    .colab-df-convert:hover {\n",
              "      background-color: #E2EBFA;\n",
              "      box-shadow: 0px 1px 2px rgba(60, 64, 67, 0.3), 0px 1px 3px 1px rgba(60, 64, 67, 0.15);\n",
              "      fill: #174EA6;\n",
              "    }\n",
              "\n",
              "    [theme=dark] .colab-df-convert {\n",
              "      background-color: #3B4455;\n",
              "      fill: #D2E3FC;\n",
              "    }\n",
              "\n",
              "    [theme=dark] .colab-df-convert:hover {\n",
              "      background-color: #434B5C;\n",
              "      box-shadow: 0px 1px 3px 1px rgba(0, 0, 0, 0.15);\n",
              "      filter: drop-shadow(0px 1px 2px rgba(0, 0, 0, 0.3));\n",
              "      fill: #FFFFFF;\n",
              "    }\n",
              "  </style>\n",
              "\n",
              "      <script>\n",
              "        const buttonEl =\n",
              "          document.querySelector('#df-c3e7a19d-303f-4606-9395-98fdfe17d001 button.colab-df-convert');\n",
              "        buttonEl.style.display =\n",
              "          google.colab.kernel.accessAllowed ? 'block' : 'none';\n",
              "\n",
              "        async function convertToInteractive(key) {\n",
              "          const element = document.querySelector('#df-c3e7a19d-303f-4606-9395-98fdfe17d001');\n",
              "          const dataTable =\n",
              "            await google.colab.kernel.invokeFunction('convertToInteractive',\n",
              "                                                     [key], {});\n",
              "          if (!dataTable) return;\n",
              "\n",
              "          const docLinkHtml = 'Like what you see? Visit the ' +\n",
              "            '<a target=\"_blank\" href=https://colab.research.google.com/notebooks/data_table.ipynb>data table notebook</a>'\n",
              "            + ' to learn more about interactive tables.';\n",
              "          element.innerHTML = '';\n",
              "          dataTable['output_type'] = 'display_data';\n",
              "          await google.colab.output.renderOutput(dataTable, element);\n",
              "          const docLink = document.createElement('div');\n",
              "          docLink.innerHTML = docLinkHtml;\n",
              "          element.appendChild(docLink);\n",
              "        }\n",
              "      </script>\n",
              "    </div>\n",
              "  </div>\n",
              "  "
            ]
          },
          "metadata": {},
          "execution_count": 12
        }
      ]
    },
    {
      "cell_type": "code",
      "source": [
        "products_dict = {}\n",
        "for i, item in zip(range(1, 21), products):\n",
        "  products_dict[f'col_{i}'] = item\n",
        "\n",
        "df = df.append(products_dict, ignore_index=True)"
      ],
      "metadata": {
        "id": "3xhPqrX_5Fbu"
      },
      "execution_count": null,
      "outputs": []
    },
    {
      "cell_type": "code",
      "source": [
        "df.isna().sum()"
      ],
      "metadata": {
        "colab": {
          "base_uri": "https://localhost:8080/"
        },
        "id": "ZFQzRsY66uYo",
        "outputId": "9aa35177-de86-488d-a617-bb99b3bd2094"
      },
      "execution_count": null,
      "outputs": [
        {
          "output_type": "execute_result",
          "data": {
            "text/plain": [
              "col_1        0\n",
              "col_2     1754\n",
              "col_3     3112\n",
              "col_4     4156\n",
              "col_5     4972\n",
              "col_6     5637\n",
              "col_7     6132\n",
              "col_8     6520\n",
              "col_9     6847\n",
              "col_10    7106\n",
              "col_11    7245\n",
              "col_12    7347\n",
              "col_13    7414\n",
              "col_14    7454\n",
              "col_15    7476\n",
              "col_16    7493\n",
              "col_17    7497\n",
              "col_18    7497\n",
              "col_19    7498\n",
              "col_20    7500\n",
              "dtype: int64"
            ]
          },
          "metadata": {},
          "execution_count": 19
        }
      ]
    },
    {
      "cell_type": "code",
      "source": [
        "df.stack().value_counts(normalize=True)[:20].plot(kind='bar', figsize=(10, 5), colormap='coolwarm');"
      ],
      "metadata": {
        "colab": {
          "base_uri": "https://localhost:8080/",
          "height": 399
        },
        "id": "eOmi6UjS7pYb",
        "outputId": "d8162495-2528-44f1-ff03-ef66ca5334b2"
      },
      "execution_count": null,
      "outputs": [
        {
          "output_type": "display_data",
          "data": {
            "text/plain": [
              "<Figure size 720x360 with 1 Axes>"
            ],
            "image/png": "[encoded data removed]"
          },
          "metadata": {
            "needs_background": "light"
          }
        }
      ]
    },
    {
      "cell_type": "code",
      "source": [
        "df.stack().value_counts()[:20].plot(kind='bar', figsize=(10, 5), colormap='tab10');"
      ],
      "metadata": {
        "colab": {
          "base_uri": "https://localhost:8080/",
          "height": 399
        },
        "id": "Uw88UOCs7g-u",
        "outputId": "23391f4e-e643-4ce5-cefc-5125c9b89a43"
      },
      "execution_count": null,
      "outputs": [
        {
          "output_type": "display_data",
          "data": {
            "text/plain": [
              "<Figure size 720x360 with 1 Axes>"
            ],
            "image/png": "[encoded data removed]"
          },
          "metadata": {
            "needs_background": "light"
          }
        }
      ]
    },
    {
      "cell_type": "markdown",
      "source": [
        "## Реализация алгоритмов ассоциативных правил (ARL)"
      ],
      "metadata": {
        "id": "lZo6oMVc8-xa"
      }
    },
    {
      "cell_type": "code",
      "source": [
        "transactions = []\n",
        "for i in range(df.shape[0]):\n",
        "  row = df.iloc[i].dropna().tolist()\n",
        "  transactions.append(row)"
      ],
      "metadata": {
        "id": "nDgGGcUM7sRb"
      },
      "execution_count": null,
      "outputs": []
    },
    {
      "cell_type": "code",
      "source": [
        "transactions[0]"
      ],
      "metadata": {
        "colab": {
          "base_uri": "https://localhost:8080/"
        },
        "id": "Kw7oTEsE9F7z",
        "outputId": "c5f3cfff-f7cb-425b-9083-77997d173e53"
      },
      "execution_count": null,
      "outputs": [
        {
          "output_type": "execute_result",
          "data": {
            "text/plain": [
              "['burgers', 'meatballs', 'eggs']"
            ]
          },
          "metadata": {},
          "execution_count": 38
        }
      ]
    },
    {
      "cell_type": "markdown",
      "source": [
        "### apriori_python\n",
        "\n",
        "minSup – это минимальная поддержка\n",
        "\n",
        "minConf – минимальная достоверность"
      ],
      "metadata": {
        "id": "NZqgDBCR9g4a"
      }
    },
    {
      "cell_type": "code",
      "source": [
        "!pip install --quiet apriori_python"
      ],
      "metadata": {
        "id": "QnPfWck-EF58"
      },
      "execution_count": null,
      "outputs": []
    },
    {
      "cell_type": "code",
      "source": [
        "from apriori_python import apriori"
      ],
      "metadata": {
        "id": "z0Xj43OkEGmH"
      },
      "execution_count": null,
      "outputs": []
    },
    {
      "cell_type": "code",
      "source": [
        "t = []\n",
        "start = time.perf_counter()\n",
        "\n",
        "t1, rules = apriori(transactions, minSup = 0.04, minConf = 0.33)\n",
        "time1 = time.perf_counter() - start\n",
        "t.append(time1)"
      ],
      "metadata": {
        "id": "PbywiFfr9cPy"
      },
      "execution_count": null,
      "outputs": []
    },
    {
      "cell_type": "code",
      "source": [
        "rules"
      ],
      "metadata": {
        "colab": {
          "base_uri": "https://localhost:8080/"
        },
        "id": "e_1751CW-Wpe",
        "outputId": "10bfe054-0a19-40f4-e68c-a6b96bd7b393"
      },
      "execution_count": null,
      "outputs": [
        {
          "output_type": "execute_result",
          "data": {
            "text/plain": [
              "[[{'spaghetti'}, {'mineral water'}, 0.3430321592649311],\n",
              " [{'milk'}, {'mineral water'}, 0.37037037037037035],\n",
              " [{'ground beef'}, {'mineral water'}, 0.41655359565807326]]"
            ]
          },
          "metadata": {},
          "execution_count": 140
        }
      ]
    },
    {
      "cell_type": "markdown",
      "source": [
        "### apyori"
      ],
      "metadata": {
        "id": "3hrUShG_Ak9X"
      }
    },
    {
      "cell_type": "code",
      "source": [
        "!pip install --quiet apyori"
      ],
      "metadata": {
        "id": "PZltex5VAmq3"
      },
      "execution_count": null,
      "outputs": []
    },
    {
      "cell_type": "code",
      "source": [
        "from apyori import apriori"
      ],
      "metadata": {
        "id": "lJ2_-kxvAtky"
      },
      "execution_count": null,
      "outputs": []
    },
    {
      "cell_type": "code",
      "source": [
        "start = time.perf_counter()\n",
        "lift = 1 + 1e-20\n",
        "\n",
        "rules = apriori(transactions, minSup = 0.02, minConf = 0.04, min_lift=lift)\n",
        "time2 = time.perf_counter() - start\n",
        "t.append(time2)"
      ],
      "metadata": {
        "id": "R_GjqJNUAzL-"
      },
      "execution_count": null,
      "outputs": []
    },
    {
      "cell_type": "code",
      "source": [
        "rules = list(rules)\n",
        "for rule in rules:\n",
        "  for subset in rule[2]:\n",
        "    print(subset[0], subset[1])\n",
        "    print('Support: {0}; Confidence: {1}; Lift: {2}'.format(rule[1], subset[2], subset[3]))\n",
        "    print('----------------------------------------------------------------------------')"
      ],
      "metadata": {
        "colab": {
          "base_uri": "https://localhost:8080/"
        },
        "id": "QwHZN8frBK8h",
        "outputId": "3087d862-3823-4a9d-cb69-c1607e365814"
      },
      "execution_count": null,
      "outputs": [
        {
          "output_type": "stream",
          "name": "stdout",
          "text": [
            "frozenset() frozenset({'chocolate'})\n",
            "Support: 0.1638448206905746; Confidence: 0.1638448206905746; Lift: 1.0\n",
            "----------------------------------------------------------------------------\n",
            "frozenset() frozenset({'eggs'})\n",
            "Support: 0.17970937208372217; Confidence: 0.17970937208372217; Lift: 1.0\n",
            "----------------------------------------------------------------------------\n",
            "frozenset() frozenset({'french fries'})\n",
            "Support: 0.1709105452606319; Confidence: 0.1709105452606319; Lift: 1.0\n",
            "----------------------------------------------------------------------------\n",
            "frozenset() frozenset({'green tea'})\n",
            "Support: 0.13211571790427942; Confidence: 0.13211571790427942; Lift: 1.0\n",
            "----------------------------------------------------------------------------\n",
            "frozenset() frozenset({'milk'})\n",
            "Support: 0.12958272230369283; Confidence: 0.12958272230369283; Lift: 1.0\n",
            "----------------------------------------------------------------------------\n",
            "frozenset() frozenset({'mineral water'})\n",
            "Support: 0.23836821757099053; Confidence: 0.23836821757099053; Lift: 1.0\n",
            "----------------------------------------------------------------------------\n",
            "frozenset() frozenset({'spaghetti'})\n",
            "Support: 0.17411011865084655; Confidence: 0.17411011865084655; Lift: 1.0\n",
            "----------------------------------------------------------------------------\n"
          ]
        }
      ]
    },
    {
      "cell_type": "markdown",
      "source": [
        "Все правила получились независимыми."
      ],
      "metadata": {
        "id": "Ot4y6_CoDApR"
      }
    },
    {
      "cell_type": "markdown",
      "source": [
        "### efficient_apriori"
      ],
      "metadata": {
        "id": "WhwYevvQDIau"
      }
    },
    {
      "cell_type": "code",
      "source": [
        "!pip install --quiet efficient_apriori"
      ],
      "metadata": {
        "id": "FN38IpDYDLkD"
      },
      "execution_count": null,
      "outputs": []
    },
    {
      "cell_type": "code",
      "source": [
        "from efficient_apriori import apriori"
      ],
      "metadata": {
        "id": "1NzjU6P3C6J1"
      },
      "execution_count": null,
      "outputs": []
    },
    {
      "cell_type": "code",
      "source": [
        "start = time.perf_counter()\n",
        "\n",
        "itemsets, rules = apriori(transactions, min_support=0.03, min_confidence=0.33)\n",
        "time3 = time.perf_counter() - start\n",
        "t.append(time3)"
      ],
      "metadata": {
        "id": "DUBBb2mRDQWV"
      },
      "execution_count": null,
      "outputs": []
    },
    {
      "cell_type": "code",
      "source": [
        "for i in range(len(rules)):\n",
        "  print(rules[i])"
      ],
      "metadata": {
        "colab": {
          "base_uri": "https://localhost:8080/"
        },
        "id": "VJxkFD61DkiM",
        "outputId": "d3edb57d-7a1c-4e10-9e57-0f90358cb58e"
      },
      "execution_count": null,
      "outputs": [
        {
          "output_type": "stream",
          "name": "stdout",
          "text": [
            "{frozen vegetables} -> {mineral water} (conf: 0.375, supp: 0.036, lift: 1.572, conv: 1.218)\n",
            "{ground beef} -> {mineral water} (conf: 0.417, supp: 0.041, lift: 1.748, conv: 1.305)\n",
            "{ground beef} -> {spaghetti} (conf: 0.399, supp: 0.039, lift: 2.291, conv: 1.374)\n",
            "{milk} -> {mineral water} (conf: 0.370, supp: 0.048, lift: 1.554, conv: 1.210)\n",
            "{pancakes} -> {mineral water} (conf: 0.355, supp: 0.034, lift: 1.489, conv: 1.181)\n",
            "{spaghetti} -> {mineral water} (conf: 0.343, supp: 0.060, lift: 1.439, conv: 1.159)\n"
          ]
        }
      ]
    },
    {
      "cell_type": "markdown",
      "source": [
        "### fpgrowth_py"
      ],
      "metadata": {
        "id": "PkprDvi9EQMI"
      }
    },
    {
      "cell_type": "code",
      "source": [
        "!pip install --quiet fpgrowth_py"
      ],
      "metadata": {
        "id": "m_l3LIVvEUnt"
      },
      "execution_count": null,
      "outputs": []
    },
    {
      "cell_type": "code",
      "source": [
        "from fpgrowth_py import fpgrowth"
      ],
      "metadata": {
        "id": "MBZqk0_BEXUy"
      },
      "execution_count": null,
      "outputs": []
    },
    {
      "cell_type": "code",
      "source": [
        "start = time.perf_counter()\n",
        "\n",
        "itemsets, rules = fpgrowth(transactions, minSupRatio=0.03, minConf=0.33)\n",
        "time4 = time.perf_counter() - start\n",
        "t.append(time4)"
      ],
      "metadata": {
        "id": "gjSAPqj6EaSd"
      },
      "execution_count": null,
      "outputs": []
    },
    {
      "cell_type": "code",
      "source": [
        "for i in range(len(rules)):\n",
        "  print(rules[i])"
      ],
      "metadata": {
        "colab": {
          "base_uri": "https://localhost:8080/"
        },
        "id": "pFUjG1moEqt7",
        "outputId": "739298eb-c755-4ee1-92be-ddf1f131d0d1"
      },
      "execution_count": null,
      "outputs": [
        {
          "output_type": "stream",
          "name": "stdout",
          "text": [
            "[{'pancakes'}, {'mineral water'}, 0.3548387096774194]\n",
            "[{'frozen vegetables'}, {'mineral water'}, 0.3748251748251748]\n",
            "[{'ground beef'}, {'spaghetti'}, 0.3989145183175034]\n",
            "[{'ground beef'}, {'mineral water'}, 0.41655359565807326]\n",
            "[{'milk'}, {'mineral water'}, 0.37037037037037035]\n",
            "[{'spaghetti'}, {'mineral water'}, 0.3430321592649311]\n"
          ]
        }
      ]
    },
    {
      "cell_type": "markdown",
      "source": [
        "## Время выполнения алгоритмов"
      ],
      "metadata": {
        "id": "GiiGcnTPEt-z"
      }
    },
    {
      "cell_type": "code",
      "source": [
        "print('Время выполнения алгоритмов apriori:')\n",
        "print(f'apriori_python: {t[0]}')\n",
        "print(f'apyori: {t[1]}')\n",
        "print(f'efficient_apriori: {t[2]}')\n",
        "print('Время выполнения алгоритма fpgrowth:')\n",
        "print(f'fpgrowth_py: {t[3]}')\n",
        "\n",
        "plt.bar(['apriori_python', 'apyori', 'efficient_apriori', 'fpgrowth_py'], t)\n",
        "plt.show()"
      ],
      "metadata": {
        "colab": {
          "base_uri": "https://localhost:8080/",
          "height": 370
        },
        "id": "r0sq9u6-Ewnx",
        "outputId": "60907753-1baf-4321-b0f2-cec25fe4a1e9"
      },
      "execution_count": null,
      "outputs": [
        {
          "output_type": "stream",
          "name": "stdout",
          "text": [
            "Время выполнения алгоритмов apriori:\n",
            "apriori_python: 1.1323331790008524\n",
            "apyori: 0.0001259199998457916\n",
            "efficient_apriori: 0.02390212799946312\n",
            "Время выполнения алгоритма fpgrowth:\n",
            "fpgrowth_py: 0.4747923049999372\n"
          ]
        },
        {
          "output_type": "display_data",
          "data": {
            "text/plain": [
              "<Figure size 432x288 with 1 Axes>"
            ],
            "image/png": "[encoded data removed]"
          },
          "metadata": {
            "needs_background": "light"
          }
        }
      ]
    },
    {
      "cell_type": "code",
      "source": [],
      "metadata": {
        "id": "1fPiEjrRGFkR"
      },
      "execution_count": null,
      "outputs": []
    }
  ]
}