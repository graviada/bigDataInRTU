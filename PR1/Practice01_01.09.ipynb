{
 "cells": [
  {
   "cell_type": "markdown",
   "metadata": {},
   "source": [
    "## ПАМЯТКА\n",
    "Код с комментариями. Или если их нет, надо добавить описание действия.\n",
    "\n",
    "За посещение - 0,5 балла.\n",
    "\n",
    "За загрузку в СДО - 3 балла.\n",
    "\n",
    "За защиту работы - еще 3 балла.\n",
    "\n",
    "Плюсом доклад в конце семестра."
   ]
  },
  {
   "cell_type": "markdown",
   "metadata": {},
   "source": [
    "1. Написать программу, которая вычисляет площадь фигуры, параметры которой подаются на вход. Фигуры, которые подаются на вход: треугольник, прямоугольник, круг. Результатом работы является словарь, где ключ – это название фигуры, а значение – это площадь.\n",
    "\n",
    "Входные данные: название фигуры, параметры"
   ]
  },
  {
   "cell_type": "code",
   "execution_count": 32,
   "metadata": {},
   "outputs": [],
   "source": [
    "from math import pi\n",
    "from typing import Dict\n",
    "\n",
    "def count_square() -> Dict:\n",
    "    dictionary = {}\n",
    "    while True:\n",
    "        figure = input('Введите название фигуры: ')\n",
    "\n",
    "        if figure == 'Треугольник':\n",
    "            b = float(input('Введите сторону: '))\n",
    "            h = float(input('Введите высоту: '))\n",
    "            s = 0.5 * b * h\n",
    "            dictionary[figure] = s\n",
    "\n",
    "        elif figure == 'Прямоугольник':\n",
    "            a = float(input('Введите сторону a: '))\n",
    "            b = float(input('Введите сторону b: '))\n",
    "            s = a * b\n",
    "            dictionary[figure] = s\n",
    "\n",
    "        elif figure == 'Круг':\n",
    "            r = float(input('Введите радиус: '))\n",
    "            s = pi * r ** 2\n",
    "            dictionary[figure] = s\n",
    "\n",
    "        elif len(figure) == 0:\n",
    "            break\n",
    "\n",
    "        else:\n",
    "            pass\n",
    "        \n",
    "    return dictionary"
   ]
  },
  {
   "cell_type": "code",
   "execution_count": 20,
   "metadata": {},
   "outputs": [
    {
     "name": "stdout",
     "output_type": "stream",
     "text": [
      "Введите название фигуры: Круг\n",
      "Введите радиус: 3\n",
      "Введите название фигуры: Прямоугольник\n",
      "Введите сторону a: 2\n",
      "Введите сторону b: 4\n",
      "Введите название фигуры: \n"
     ]
    },
    {
     "data": {
      "text/plain": [
       "{'Круг': 28.274333882308138, 'Прямоугольник': 8.0}"
      ]
     },
     "execution_count": 20,
     "metadata": {},
     "output_type": "execute_result"
    }
   ],
   "source": [
    "count_square()"
   ]
  },
  {
   "cell_type": "markdown",
   "metadata": {},
   "source": [
    "2. Написать программу, которая на вход получает два числа и операцию, которую к ним нужно применить. Должны быть реализованы следующие операции: +, -, /, //, abs – модуль, pow или ** – возведение в степень. Результатом работы программы является одно число."
   ]
  },
  {
   "cell_type": "code",
   "execution_count": 25,
   "metadata": {},
   "outputs": [],
   "source": [
    "def str_operation(a: float, b: float, operation: str):\n",
    "    str_expr = str(a) + operation + str(b)\n",
    "    \n",
    "    try:\n",
    "        x = eval(str_expr)\n",
    "        \n",
    "    except Error:\n",
    "        print (\"При вводе допущена ошибка. Попробуйте еще раз.\")\n",
    "        \n",
    "    return x"
   ]
  },
  {
   "cell_type": "code",
   "execution_count": 26,
   "metadata": {},
   "outputs": [
    {
     "data": {
      "text/plain": [
       "7"
      ]
     },
     "execution_count": 26,
     "metadata": {},
     "output_type": "execute_result"
    }
   ],
   "source": [
    "str_operation(2, 5, '+')"
   ]
  },
  {
   "cell_type": "markdown",
   "metadata": {},
   "source": [
    "3. Написать программу, вычисляющую площадь треугольника по переданным длинам трёх его сторон по формуле Герона. \n",
    "На вход программе подаются целые числа, выводом программы должно являться вещественное число, соответствующее площади треугольника. "
   ]
  },
  {
   "cell_type": "code",
   "execution_count": 29,
   "metadata": {},
   "outputs": [],
   "source": [
    "from math import sqrt\n",
    "\n",
    "def heron() -> float:\n",
    "    a = int(input(\"Введите сторону a: \"))\n",
    "    b = int(input(\"Введите сторону b: \"))\n",
    "    c = int(input(\"Введите сторону c: \"))\n",
    "\n",
    "    p = (a + b + c) / 2\n",
    "    s = sqrt(p * (p - a) * (p - b) * (p - c))\n",
    "    \n",
    "    return s"
   ]
  },
  {
   "cell_type": "code",
   "execution_count": 31,
   "metadata": {},
   "outputs": [
    {
     "name": "stdout",
     "output_type": "stream",
     "text": [
      "Введите сторону a: 5\n",
      "Введите сторону b: 6\n",
      "Введите сторону c: 7\n"
     ]
    },
    {
     "data": {
      "text/plain": [
       "14.696938456699069"
      ]
     },
     "execution_count": 31,
     "metadata": {},
     "output_type": "execute_result"
    }
   ],
   "source": [
    "heron()"
   ]
  }
 ],
 "metadata": {
  "kernelspec": {
   "display_name": "Python 3",
   "language": "python",
   "name": "python3"
  },
  "language_info": {
   "codemirror_mode": {
    "name": "ipython",
    "version": 3
   },
   "file_extension": ".py",
   "mimetype": "text/x-python",
   "name": "python",
   "nbconvert_exporter": "python",
   "pygments_lexer": "ipython3",
   "version": "3.7.6"
  }
 },
 "nbformat": 4,
 "nbformat_minor": 4
}
