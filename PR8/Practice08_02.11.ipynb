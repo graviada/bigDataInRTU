{
 "cells": [
  {
   "cell_type": "code",
   "execution_count": 24,
   "metadata": {},
   "outputs": [],
   "source": [
    "# pip install seaborn==0.11.0 --user"
   ]
  },
  {
   "cell_type": "code",
   "execution_count": 38,
   "metadata": {},
   "outputs": [],
   "source": [
    "import numpy as np\n",
    "import pandas as pd\n",
    "\n",
    "import scipy.stats as st\n",
    "import statsmodels.api as sm\n",
    "from statsmodels.formula.api import ols\n",
    "from statsmodels.stats.multicomp import pairwise_tukeyhsd\n",
    "\n",
    "import seaborn as sns\n",
    "import matplotlib.pyplot as plt"
   ]
  },
  {
   "cell_type": "markdown",
   "metadata": {},
   "source": [
    "1. Загрузить данные: 'insurance.csv'. Вывести и провести предобработку.\n",
    "Вывести список уникальных регионов."
   ]
  },
  {
   "cell_type": "code",
   "execution_count": 7,
   "metadata": {},
   "outputs": [
    {
     "name": "stdout",
     "output_type": "stream",
     "text": [
      "(1338, 7)\n"
     ]
    },
    {
     "data": {
      "text/html": [
       "<div>\n",
       "<style scoped>\n",
       "    .dataframe tbody tr th:only-of-type {\n",
       "        vertical-align: middle;\n",
       "    }\n",
       "\n",
       "    .dataframe tbody tr th {\n",
       "        vertical-align: top;\n",
       "    }\n",
       "\n",
       "    .dataframe thead th {\n",
       "        text-align: right;\n",
       "    }\n",
       "</style>\n",
       "<table border=\"1\" class=\"dataframe\">\n",
       "  <thead>\n",
       "    <tr style=\"text-align: right;\">\n",
       "      <th></th>\n",
       "      <th>age</th>\n",
       "      <th>sex</th>\n",
       "      <th>bmi</th>\n",
       "      <th>children</th>\n",
       "      <th>smoker</th>\n",
       "      <th>region</th>\n",
       "      <th>charges</th>\n",
       "    </tr>\n",
       "  </thead>\n",
       "  <tbody>\n",
       "    <tr>\n",
       "      <th>0</th>\n",
       "      <td>19</td>\n",
       "      <td>female</td>\n",
       "      <td>27.90</td>\n",
       "      <td>0</td>\n",
       "      <td>yes</td>\n",
       "      <td>southwest</td>\n",
       "      <td>16884.9240</td>\n",
       "    </tr>\n",
       "    <tr>\n",
       "      <th>1</th>\n",
       "      <td>18</td>\n",
       "      <td>male</td>\n",
       "      <td>33.77</td>\n",
       "      <td>1</td>\n",
       "      <td>no</td>\n",
       "      <td>southeast</td>\n",
       "      <td>1725.5523</td>\n",
       "    </tr>\n",
       "    <tr>\n",
       "      <th>2</th>\n",
       "      <td>28</td>\n",
       "      <td>male</td>\n",
       "      <td>33.00</td>\n",
       "      <td>3</td>\n",
       "      <td>no</td>\n",
       "      <td>southeast</td>\n",
       "      <td>4449.4620</td>\n",
       "    </tr>\n",
       "  </tbody>\n",
       "</table>\n",
       "</div>"
      ],
      "text/plain": [
       "   age     sex    bmi  children smoker     region     charges\n",
       "0   19  female  27.90         0    yes  southwest  16884.9240\n",
       "1   18    male  33.77         1     no  southeast   1725.5523\n",
       "2   28    male  33.00         3     no  southeast   4449.4620"
      ]
     },
     "execution_count": 7,
     "metadata": {},
     "output_type": "execute_result"
    }
   ],
   "source": [
    "df = pd.read_csv(\"insurance.csv\")\n",
    "print(df.shape)\n",
    "df.head(3)"
   ]
  },
  {
   "cell_type": "code",
   "execution_count": 8,
   "metadata": {},
   "outputs": [
    {
     "data": {
      "text/plain": [
       "age         0\n",
       "sex         0\n",
       "bmi         0\n",
       "children    0\n",
       "smoker      0\n",
       "region      0\n",
       "charges     0\n",
       "dtype: int64"
      ]
     },
     "execution_count": 8,
     "metadata": {},
     "output_type": "execute_result"
    }
   ],
   "source": [
    "df.isna().sum()"
   ]
  },
  {
   "cell_type": "code",
   "execution_count": 9,
   "metadata": {},
   "outputs": [
    {
     "data": {
      "text/plain": [
       "True"
      ]
     },
     "execution_count": 9,
     "metadata": {},
     "output_type": "execute_result"
    }
   ],
   "source": [
    "df.duplicated().any()"
   ]
  },
  {
   "cell_type": "code",
   "execution_count": 10,
   "metadata": {},
   "outputs": [
    {
     "data": {
      "text/plain": [
       "(1337, 7)"
      ]
     },
     "execution_count": 10,
     "metadata": {},
     "output_type": "execute_result"
    }
   ],
   "source": [
    "df = df.drop_duplicates()\n",
    "df.shape"
   ]
  },
  {
   "cell_type": "code",
   "execution_count": 11,
   "metadata": {},
   "outputs": [
    {
     "data": {
      "text/plain": [
       "['southwest', 'southeast', 'northwest', 'northeast']"
      ]
     },
     "execution_count": 11,
     "metadata": {},
     "output_type": "execute_result"
    }
   ],
   "source": [
    "df.region.unique().tolist()"
   ]
  },
  {
   "cell_type": "markdown",
   "metadata": {},
   "source": [
    "2. Выполнить однофакторный ANOVA тест, чтобы проверить влияние\n",
    "региона на индекс массы тела (BMI), используя первый способ, через\n",
    "библиотеку Scipy."
   ]
  },
  {
   "cell_type": "code",
   "execution_count": 12,
   "metadata": {},
   "outputs": [
    {
     "data": {
      "text/plain": [
       "age           int64\n",
       "sex          object\n",
       "bmi         float64\n",
       "children      int64\n",
       "smoker       object\n",
       "region       object\n",
       "charges     float64\n",
       "dtype: object"
      ]
     },
     "execution_count": 12,
     "metadata": {},
     "output_type": "execute_result"
    }
   ],
   "source": [
    "df.dtypes"
   ]
  },
  {
   "cell_type": "code",
   "execution_count": 13,
   "metadata": {
    "scrolled": false
   },
   "outputs": [
    {
     "data": {
      "image/png": "[encoded data removed]",
      "text/plain": [
       "<Figure size 360x360 with 1 Axes>"
      ]
     },
     "metadata": {
      "needs_background": "light"
     },
     "output_type": "display_data"
    }
   ],
   "source": [
    "# Проверяем распределение на нормальность графически\n",
    "sns.displot(x='bmi', kde=True, data=df);"
   ]
  },
  {
   "cell_type": "code",
   "execution_count": 14,
   "metadata": {},
   "outputs": [
    {
     "name": "stdout",
     "output_type": "stream",
     "text": [
      "p-значение для bmi: 0.304\n"
     ]
    }
   ],
   "source": [
    "# и практически с помощью вычисленной статистики теста Колмогорова-Смирнова\n",
    "bmi_ks_test = st.kstest(st.zscore(df.bmi), 'norm')\n",
    "print('p-значение для bmi:', round(bmi_ks_test[1], 3))"
   ]
  },
  {
   "cell_type": "markdown",
   "metadata": {},
   "source": [
    "**Гипотезы для теста Колмогорова-Смирнова.**\n",
    "\n",
    "Нулевая гипотеза: выборка имеет нормальное распределение (p-value > 0.05).\n",
    "\n",
    "Альтернативная гипотеза: выборка не имеет нормального распределения (p-value < 0.05).\n",
    "\n",
    "p-значение больше 0.05, поэтому гипотеза о нормальности распределения принимается. Теперь проверим равенство дисперсий в группах по регионам с помощью теста Левена."
   ]
  },
  {
   "cell_type": "code",
   "execution_count": 19,
   "metadata": {},
   "outputs": [],
   "source": [
    "regions = ['southwest', 'southeast', 'northwest', 'northeast']\n",
    "groups = df.groupby('region')['bmi'].groups\n",
    "\n",
    "southwest = df.bmi[groups['southwest']]\n",
    "southeast = df.bmi[groups['southeast']]\n",
    "northwest = df.bmi[groups['northwest']]\n",
    "northeast = df.bmi[groups['northeast']]"
   ]
  },
  {
   "cell_type": "code",
   "execution_count": 23,
   "metadata": {},
   "outputs": [
    {
     "data": {
      "text/plain": [
       "LeveneResult(statistic=6.112705911854986, pvalue=0.00039621339987129067)"
      ]
     },
     "execution_count": 23,
     "metadata": {},
     "output_type": "execute_result"
    }
   ],
   "source": [
    "st.levene(southwest, southeast, northwest, northeast, center='median')"
   ]
  },
  {
   "cell_type": "markdown",
   "metadata": {},
   "source": [
    "**Гипотезы для теста Левена.**\n",
    "\n",
    "Нулевая гипотеза: дисперсия между группами одинакова (p-value > 0.05).\n",
    "\n",
    "Альтернативная гипотеза: дисперсия между разными группами не одинакова (по крайней мере, для одной пары дисперсия не равна другим) (p-value < 0.05).\n",
    "\n",
    "p-значение намного меньше 0.05, что позволяет отвергнуть нулевую гипотезу. То есть у нас есть основания полагать, что между группами регионов есть различия в собранных измерениях индекса массы тела человека. А значит, равенство дисперсий не соблюдается. Это нужно учитывать при проведении однофакторного дисперсионного анализа."
   ]
  },
  {
   "cell_type": "code",
   "execution_count": 25,
   "metadata": {},
   "outputs": [
    {
     "data": {
      "text/plain": [
       "F_onewayResult(statistic=39.48593864487439, pvalue=1.9087293927440606e-24)"
      ]
     },
     "execution_count": 25,
     "metadata": {},
     "output_type": "execute_result"
    }
   ],
   "source": [
    "st.f_oneway(southwest, southeast, northwest, northeast)"
   ]
  },
  {
   "cell_type": "markdown",
   "metadata": {},
   "source": [
    "**Гипотезы однофакторного дисперсионного анализа**\n",
    "\n",
    "Нулевая гипотеза: в генеральной совокупности нет значимых различий\n",
    "между средними, все средние трёх групп равны друг другу (p-value > 0.05).\n",
    "\n",
    "Альтернативная гипотеза: хотя бы пара средних значимо различается между собой (p-value < 0.05).\n",
    "\n",
    "p-значение значительно меньше 0.05. Мы так же приходим к выводу, что есть существенные различия между группами."
   ]
  },
  {
   "cell_type": "markdown",
   "metadata": {},
   "source": [
    "3. Выполнить однофакторный ANOVA тест, чтобы проверить влияние\n",
    "региона на индекс массы тела (BMI), используя второй способ, с помощью\n",
    "функции anova_lm() из библиотеки statsmodels."
   ]
  },
  {
   "cell_type": "code",
   "execution_count": 28,
   "metadata": {},
   "outputs": [
    {
     "name": "stdout",
     "output_type": "stream",
     "text": [
      "                sum_sq      df          F        PR(>F)\n",
      "region     4057.813904     3.0  39.485939  1.908729e-24\n",
      "Residual  45662.381091  1333.0        NaN           NaN\n"
     ]
    }
   ],
   "source": [
    "model = ols('bmi ~ region', data=df).fit()\n",
    "anova_result = sm.stats.anova_lm(model, typ=2)\n",
    "print(anova_result)"
   ]
  },
  {
   "cell_type": "markdown",
   "metadata": {},
   "source": [
    "Получили то же самое p-значение."
   ]
  },
  {
   "cell_type": "markdown",
   "metadata": {},
   "source": [
    "4. С помощью t-критерия Стьюдента перебрать все пары. Определить\n",
    "поправку Бонферрони. Сделать выводы."
   ]
  },
  {
   "cell_type": "markdown",
   "metadata": {},
   "source": [
    "Было бы интересно узнать, в каких именно группах\n",
    "есть влияние. Для этого можно\n",
    "использовать t-критерий Стьюдента для всех пар регионов, но такой метод при\n",
    "большом разнообразии групп может дать слишком большую ошибку.\n",
    "Метод Бонферрони является одним из наиболее простых и известных\n",
    "способов контроля над групповой вероятностью ошибки."
   ]
  },
  {
   "cell_type": "code",
   "execution_count": 32,
   "metadata": {},
   "outputs": [
    {
     "data": {
      "text/plain": [
       "[('southwest', 'southeast'),\n",
       " ('southwest', 'northwest'),\n",
       " ('southwest', 'northeast'),\n",
       " ('southeast', 'northwest'),\n",
       " ('southeast', 'northeast'),\n",
       " ('northwest', 'northeast')]"
      ]
     },
     "execution_count": 32,
     "metadata": {},
     "output_type": "execute_result"
    }
   ],
   "source": [
    "region_pairs = []\n",
    "\n",
    "for region_1 in range(4):\n",
    "    for region_2 in range(region_1 + 1, 4):\n",
    "        region_pairs.append((regions[region_1], regions[region_2]))\n",
    "        \n",
    "region_pairs"
   ]
  },
  {
   "cell_type": "code",
   "execution_count": 33,
   "metadata": {},
   "outputs": [
    {
     "name": "stdout",
     "output_type": "stream",
     "text": [
      "southwest southeast\n",
      "Ttest_indResult(statistic=-5.908373821545118, pvalue=5.4374009639680636e-09)\n",
      "southwest northwest\n",
      "Ttest_indResult(statistic=3.289593460501664, pvalue=0.0010577505931067947)\n",
      "southwest northeast\n",
      "Ttest_indResult(statistic=3.1169000930045923, pvalue=0.0019086161671573072)\n",
      "southeast northwest\n",
      "Ttest_indResult(statistic=9.252137489219615, pvalue=2.7504255547794223e-19)\n",
      "southeast northeast\n",
      "Ttest_indResult(statistic=8.790905562598699, pvalue=1.186014937424813e-17)\n",
      "northwest northeast\n",
      "Ttest_indResult(statistic=0.05038637314068614, pvalue=0.9598300701853016)\n"
     ]
    }
   ],
   "source": [
    "for region_1, region_2 in region_pairs:\n",
    "    print(region_1, region_2)\n",
    "    print(st.ttest_ind(df.bmi[groups[region_1]], df.bmi[groups[region_2]]))"
   ]
  },
  {
   "cell_type": "markdown",
   "metadata": {},
   "source": [
    "Сравним p-значения с alpha после поправки Бонферрони:"
   ]
  },
  {
   "cell_type": "code",
   "execution_count": 37,
   "metadata": {},
   "outputs": [
    {
     "name": "stdout",
     "output_type": "stream",
     "text": [
      "alpha: 0.0083\n"
     ]
    }
   ],
   "source": [
    "print(f'alpha: {round(0.05/6, 4)}')"
   ]
  },
  {
   "cell_type": "markdown",
   "metadata": {},
   "source": [
    "Значение alpha превышает только пара northwest-northeast, следовательно, замеры в выборках по этим двум регионам отличаются от других регионов. Об этом же свидетельствует наиболее приближенные p-значения у пар southwest-northeast, southwest-northwest."
   ]
  },
  {
   "cell_type": "markdown",
   "metadata": {},
   "source": [
    "5. Выполнить пост-хок тесты Тьюки и построить график.\n",
    "\n",
    "После проведения дисперсионного анализа получаем данные о том,\n",
    "значимо ли влияние изучаемого фактора на данные: различаются ли между\n",
    "группами средние значения зависимой переменной. Однако результаты\n",
    "анализа не дают ответа на вопрос: благодаря каким различиям это влияние\n",
    "оказалось значимым?\n",
    "Для решения данной задачи предназначены пост-хок тесты."
   ]
  },
  {
   "cell_type": "code",
   "execution_count": 40,
   "metadata": {},
   "outputs": [
    {
     "data": {
      "text/html": [
       "<table class=\"simpletable\">\n",
       "<caption>Multiple Comparison of Means - Tukey HSD, FWER=0.05</caption>\n",
       "<tr>\n",
       "   <th>group1</th>    <th>group2</th>   <th>meandiff</th>  <th>p-adj</th>  <th>lower</th>   <th>upper</th>  <th>reject</th>\n",
       "</tr>\n",
       "<tr>\n",
       "  <td>northeast</td> <td>northwest</td>   <td>0.022</td>    <td>0.9</td>  <td>-1.1609</td> <td>1.2048</td>   <td>False</td>\n",
       "</tr>\n",
       "<tr>\n",
       "  <td>northeast</td> <td>southeast</td>  <td>4.1825</td>   <td>0.001</td> <td>3.0326</td>  <td>5.3324</td>   <td>True</td> \n",
       "</tr>\n",
       "<tr>\n",
       "  <td>northeast</td> <td>southwest</td>  <td>1.4231</td>  <td>0.0107</td> <td>0.2412</td>   <td>2.605</td>   <td>True</td> \n",
       "</tr>\n",
       "<tr>\n",
       "  <td>northwest</td> <td>southeast</td>  <td>4.1605</td>   <td>0.001</td> <td>3.0106</td>  <td>5.3104</td>   <td>True</td> \n",
       "</tr>\n",
       "<tr>\n",
       "  <td>northwest</td> <td>southwest</td>  <td>1.4011</td>  <td>0.0125</td> <td>0.2192</td>  <td>2.5831</td>   <td>True</td> \n",
       "</tr>\n",
       "<tr>\n",
       "  <td>southeast</td> <td>southwest</td>  <td>-2.7594</td>  <td>0.001</td> <td>-3.9083</td> <td>-1.6104</td>  <td>True</td> \n",
       "</tr>\n",
       "</table>"
      ],
      "text/plain": [
       "<class 'statsmodels.iolib.table.SimpleTable'>"
      ]
     },
     "execution_count": 40,
     "metadata": {},
     "output_type": "execute_result"
    },
    {
     "data": {
      "image/png": "[encoded data removed]",
      "text/plain": [
       "<Figure size 720x432 with 1 Axes>"
      ]
     },
     "metadata": {
      "needs_background": "light"
     },
     "output_type": "display_data"
    }
   ],
   "source": [
    "tukey = pairwise_tukeyhsd(endog=df.bmi, groups=df.region, alpha=0.05)\n",
    "tukey.plot_simultaneous()\n",
    "# plt.vlines()\n",
    "tukey.summary()"
   ]
  },
  {
   "cell_type": "markdown",
   "metadata": {},
   "source": [
    "6. Выполнить двухфакторный ANOVA тест, чтобы проверить влияние\n",
    "региона и пола на индекс массы тела (BMI), используя функцию anova_lm()\n",
    "из библиотеки statsmodels."
   ]
  },
  {
   "cell_type": "code",
   "execution_count": 42,
   "metadata": {},
   "outputs": [
    {
     "name": "stdout",
     "output_type": "stream",
     "text": [
      "                  sum_sq      df          F        PR(>F)\n",
      "region       4036.141807     3.0  39.381780  2.215903e-24\n",
      "sex            85.359929     1.0   2.498643  1.141824e-01\n",
      "region:sex    175.040197     3.0   1.707917  1.635099e-01\n",
      "Residual    45401.980965  1329.0        NaN           NaN\n"
     ]
    }
   ],
   "source": [
    "model = ols('bmi ~ region + sex + region:sex', data=df).fit()\n",
    "print(sm.stats.anova_lm(model, typ=2))"
   ]
  },
  {
   "cell_type": "markdown",
   "metadata": {},
   "source": [
    "Поскольку p-значения для region гораздо меньше 0.05, это означает, что\n",
    "данный фактор оказывают статистически значимое влияние на индекс массы тела.\n",
    "\n",
    "р-значение для двух других факторов превышает 0.05. То есть пол и пол+регион не оказывает статистически значимое влияние на индекс массы тела."
   ]
  },
  {
   "cell_type": "markdown",
   "metadata": {},
   "source": [
    "7. Выполнить пост-хок тесты Тьюки и построить график."
   ]
  },
  {
   "cell_type": "code",
   "execution_count": 43,
   "metadata": {},
   "outputs": [
    {
     "data": {
      "text/html": [
       "<table class=\"simpletable\">\n",
       "<caption>Multiple Comparison of Means - Tukey HSD, FWER=0.05</caption>\n",
       "<tr>\n",
       "       <th>group1</th>           <th>group2</th>      <th>meandiff</th>  <th>p-adj</th>  <th>lower</th>   <th>upper</th>  <th>reject</th>\n",
       "</tr>\n",
       "<tr>\n",
       "  <td>female/northeast</td> <td>female/northwest</td>  <td>-0.0464</td>   <td>0.9</td>  <td>-2.0149</td> <td>1.9222</td>   <td>False</td>\n",
       "</tr>\n",
       "<tr>\n",
       "  <td>female/northeast</td> <td>female/southeast</td>  <td>3.3469</td>   <td>0.001</td> <td>1.4093</td>  <td>5.2846</td>   <td>True</td> \n",
       "</tr>\n",
       "<tr>\n",
       "  <td>female/northeast</td> <td>female/southwest</td>  <td>0.7362</td>    <td>0.9</td>  <td>-1.2384</td> <td>2.7107</td>   <td>False</td>\n",
       "</tr>\n",
       "<tr>\n",
       "  <td>female/northeast</td>  <td>male/northeast</td>   <td>-0.2998</td>   <td>0.9</td>  <td>-2.2713</td> <td>1.6717</td>   <td>False</td>\n",
       "</tr>\n",
       "<tr>\n",
       "  <td>female/northeast</td>  <td>male/northwest</td>   <td>-0.2133</td>   <td>0.9</td>  <td>-2.194</td>  <td>1.7673</td>   <td>False</td>\n",
       "</tr>\n",
       "<tr>\n",
       "  <td>female/northeast</td>  <td>male/southeast</td>   <td>4.6657</td>   <td>0.001</td> <td>2.7627</td>  <td>6.5686</td>   <td>True</td> \n",
       "</tr>\n",
       "<tr>\n",
       "  <td>female/northeast</td>  <td>male/southwest</td>   <td>1.8051</td>   <td>0.101</td> <td>-0.1664</td> <td>3.7767</td>   <td>False</td>\n",
       "</tr>\n",
       "<tr>\n",
       "  <td>female/northwest</td> <td>female/southeast</td>  <td>3.3933</td>   <td>0.001</td> <td>1.4649</td>  <td>5.3217</td>   <td>True</td> \n",
       "</tr>\n",
       "<tr>\n",
       "  <td>female/northwest</td> <td>female/southwest</td>  <td>0.7825</td>    <td>0.9</td>  <td>-1.1829</td>  <td>2.748</td>   <td>False</td>\n",
       "</tr>\n",
       "<tr>\n",
       "  <td>female/northwest</td>  <td>male/northeast</td>   <td>-0.2534</td>   <td>0.9</td>  <td>-2.2158</td>  <td>1.709</td>   <td>False</td>\n",
       "</tr>\n",
       "<tr>\n",
       "  <td>female/northwest</td>  <td>male/northwest</td>   <td>-0.167</td>    <td>0.9</td>  <td>-2.1386</td> <td>1.8046</td>   <td>False</td>\n",
       "</tr>\n",
       "<tr>\n",
       "  <td>female/northwest</td>  <td>male/southeast</td>    <td>4.712</td>   <td>0.001</td> <td>2.8185</td>  <td>6.6056</td>   <td>True</td> \n",
       "</tr>\n",
       "<tr>\n",
       "  <td>female/northwest</td>  <td>male/southwest</td>   <td>1.8515</td>  <td>0.0812</td> <td>-0.1109</td> <td>3.8139</td>   <td>False</td>\n",
       "</tr>\n",
       "<tr>\n",
       "  <td>female/southeast</td> <td>female/southwest</td>  <td>-2.6108</td> <td>0.0012</td> <td>-4.5453</td> <td>-0.6762</td>  <td>True</td> \n",
       "</tr>\n",
       "<tr>\n",
       "  <td>female/southeast</td>  <td>male/northeast</td>   <td>-3.6467</td>  <td>0.001</td> <td>-5.5782</td> <td>-1.7153</td>  <td>True</td> \n",
       "</tr>\n",
       "<tr>\n",
       "  <td>female/southeast</td>  <td>male/northwest</td>   <td>-3.5603</td>  <td>0.001</td> <td>-5.5011</td> <td>-1.6195</td>  <td>True</td> \n",
       "</tr>\n",
       "<tr>\n",
       "  <td>female/southeast</td>  <td>male/southeast</td>   <td>1.3187</td>  <td>0.3846</td> <td>-0.5426</td> <td>3.1801</td>   <td>False</td>\n",
       "</tr>\n",
       "<tr>\n",
       "  <td>female/southeast</td>  <td>male/southwest</td>   <td>-1.5418</td> <td>0.2308</td> <td>-3.4732</td> <td>0.3896</td>   <td>False</td>\n",
       "</tr>\n",
       "<tr>\n",
       "  <td>female/southwest</td>  <td>male/northeast</td>   <td>-1.036</td>  <td>0.7242</td> <td>-3.0044</td> <td>0.9325</td>   <td>False</td>\n",
       "</tr>\n",
       "<tr>\n",
       "  <td>female/southwest</td>  <td>male/northwest</td>   <td>-0.9495</td> <td>0.8078</td> <td>-2.9272</td> <td>1.0281</td>   <td>False</td>\n",
       "</tr>\n",
       "<tr>\n",
       "  <td>female/southwest</td>  <td>male/southeast</td>   <td>3.9295</td>   <td>0.001</td> <td>2.0297</td>  <td>5.8293</td>   <td>True</td> \n",
       "</tr>\n",
       "<tr>\n",
       "  <td>female/southwest</td>  <td>male/southwest</td>    <td>1.069</td>  <td>0.6938</td> <td>-0.8995</td> <td>3.0374</td>   <td>False</td>\n",
       "</tr>\n",
       "<tr>\n",
       "   <td>male/northeast</td>   <td>male/northwest</td>   <td>0.0864</td>    <td>0.9</td>  <td>-1.8882</td>  <td>2.061</td>   <td>False</td>\n",
       "</tr>\n",
       "<tr>\n",
       "   <td>male/northeast</td>   <td>male/southeast</td>   <td>4.9655</td>   <td>0.001</td> <td>3.0688</td>  <td>6.8621</td>   <td>True</td> \n",
       "</tr>\n",
       "<tr>\n",
       "   <td>male/northeast</td>   <td>male/southwest</td>   <td>2.1049</td>  <td>0.0259</td> <td>0.1395</td>  <td>4.0703</td>   <td>True</td> \n",
       "</tr>\n",
       "<tr>\n",
       "   <td>male/northwest</td>   <td>male/southeast</td>    <td>4.879</td>   <td>0.001</td> <td>2.9729</td>  <td>6.7852</td>   <td>True</td> \n",
       "</tr>\n",
       "<tr>\n",
       "   <td>male/northwest</td>   <td>male/southwest</td>   <td>2.0185</td>   <td>0.041</td> <td>0.0439</td>  <td>3.9931</td>   <td>True</td> \n",
       "</tr>\n",
       "<tr>\n",
       "   <td>male/southeast</td>   <td>male/southwest</td>   <td>-2.8606</td>  <td>0.001</td> <td>-4.7572</td> <td>-0.9639</td>  <td>True</td> \n",
       "</tr>\n",
       "</table>"
      ],
      "text/plain": [
       "<class 'statsmodels.iolib.table.SimpleTable'>"
      ]
     },
     "execution_count": 43,
     "metadata": {},
     "output_type": "execute_result"
    },
    {
     "data": {
      "image/png": "[encoded data removed]",
      "text/plain": [
       "<Figure size 720x432 with 1 Axes>"
      ]
     },
     "metadata": {
      "needs_background": "light"
     },
     "output_type": "display_data"
    }
   ],
   "source": [
    "df['combination'] = df.sex + '/' + df.region\n",
    "tukey = pairwise_tukeyhsd(endog=df.bmi, groups=df.combination, alpha=0.05)\n",
    "tukey.plot_simultaneous()\n",
    "# plt.vlines()\n",
    "tukey.summary()"
   ]
  }
 ],
 "metadata": {
  "kernelspec": {
   "display_name": "Python 3",
   "language": "python",
   "name": "python3"
  },
  "language_info": {
   "codemirror_mode": {
    "name": "ipython",
    "version": 3
   },
   "file_extension": ".py",
   "mimetype": "text/x-python",
   "name": "python",
   "nbconvert_exporter": "python",
   "pygments_lexer": "ipython3",
   "version": "3.7.6"
  }
 },
 "nbformat": 4,
 "nbformat_minor": 4
}
