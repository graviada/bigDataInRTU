{
 "cells": [
  {
   "cell_type": "code",
   "execution_count": 1,
   "metadata": {},
   "outputs": [],
   "source": [
    "import pandas as pd\n",
    "import numpy as np\n",
    "import seaborn as sns\n",
    "import matplotlib.pyplot as plt\n",
    "import warnings\n",
    "warnings.filterwarnings('ignore')\n",
    "import scipy.stats as sts"
   ]
  },
  {
   "cell_type": "code",
   "execution_count": 25,
   "metadata": {},
   "outputs": [],
   "source": [
    "df = pd.read_csv(r'ECDCCases.csv', delimiter=',')"
   ]
  },
  {
   "cell_type": "code",
   "execution_count": 30,
   "metadata": {},
   "outputs": [
    {
     "name": "stdout",
     "output_type": "stream",
     "text": [
      "<class 'pandas.core.frame.DataFrame'>\n",
      "RangeIndex: 61904 entries, 0 to 61903\n",
      "Data columns (total 12 columns):\n",
      " #   Column                                                      Non-Null Count  Dtype  \n",
      "---  ------                                                      --------------  -----  \n",
      " 0   dateRep                                                     61904 non-null  object \n",
      " 1   day                                                         61904 non-null  int64  \n",
      " 2   month                                                       61904 non-null  int64  \n",
      " 3   year                                                        61904 non-null  int64  \n",
      " 4   cases                                                       61904 non-null  int64  \n",
      " 5   deaths                                                      61904 non-null  int64  \n",
      " 6   countriesAndTerritories                                     61904 non-null  object \n",
      " 7   geoId                                                       61629 non-null  object \n",
      " 8   countryterritoryCode                                        61781 non-null  object \n",
      " 9   popData2019                                                 61781 non-null  float64\n",
      " 10  continentExp                                                61904 non-null  object \n",
      " 11  Cumulative_number_for_14_days_of_COVID-19_cases_per_100000  59025 non-null  float64\n",
      "dtypes: float64(2), int64(5), object(5)\n",
      "memory usage: 5.7+ MB\n"
     ]
    }
   ],
   "source": [
    "df.info()"
   ]
  },
  {
   "cell_type": "code",
   "execution_count": 27,
   "metadata": {},
   "outputs": [
    {
     "data": {
      "text/html": [
       "<div>\n",
       "<style scoped>\n",
       "    .dataframe tbody tr th:only-of-type {\n",
       "        vertical-align: middle;\n",
       "    }\n",
       "\n",
       "    .dataframe tbody tr th {\n",
       "        vertical-align: top;\n",
       "    }\n",
       "\n",
       "    .dataframe thead th {\n",
       "        text-align: right;\n",
       "    }\n",
       "</style>\n",
       "<table border=\"1\" class=\"dataframe\">\n",
       "  <thead>\n",
       "    <tr style=\"text-align: right;\">\n",
       "      <th></th>\n",
       "      <th>day</th>\n",
       "      <th>month</th>\n",
       "      <th>year</th>\n",
       "      <th>cases</th>\n",
       "      <th>deaths</th>\n",
       "      <th>popData2019</th>\n",
       "      <th>Cumulative_number_for_14_days_of_COVID-19_cases_per_100000</th>\n",
       "    </tr>\n",
       "  </thead>\n",
       "  <tbody>\n",
       "    <tr>\n",
       "      <th>count</th>\n",
       "      <td>61904.000000</td>\n",
       "      <td>61904.000000</td>\n",
       "      <td>61904.000000</td>\n",
       "      <td>61904.000000</td>\n",
       "      <td>61904.000000</td>\n",
       "      <td>6.178100e+04</td>\n",
       "      <td>59025.000000</td>\n",
       "    </tr>\n",
       "    <tr>\n",
       "      <th>mean</th>\n",
       "      <td>15.629232</td>\n",
       "      <td>7.067104</td>\n",
       "      <td>2019.998918</td>\n",
       "      <td>1155.079026</td>\n",
       "      <td>26.053987</td>\n",
       "      <td>4.098628e+07</td>\n",
       "      <td>66.316369</td>\n",
       "    </tr>\n",
       "    <tr>\n",
       "      <th>std</th>\n",
       "      <td>8.841624</td>\n",
       "      <td>2.954816</td>\n",
       "      <td>0.032881</td>\n",
       "      <td>6779.010824</td>\n",
       "      <td>131.222948</td>\n",
       "      <td>1.531246e+08</td>\n",
       "      <td>162.324550</td>\n",
       "    </tr>\n",
       "    <tr>\n",
       "      <th>min</th>\n",
       "      <td>1.000000</td>\n",
       "      <td>1.000000</td>\n",
       "      <td>2019.000000</td>\n",
       "      <td>-8261.000000</td>\n",
       "      <td>-1918.000000</td>\n",
       "      <td>8.150000e+02</td>\n",
       "      <td>-147.419587</td>\n",
       "    </tr>\n",
       "    <tr>\n",
       "      <th>25%</th>\n",
       "      <td>8.000000</td>\n",
       "      <td>5.000000</td>\n",
       "      <td>2020.000000</td>\n",
       "      <td>0.000000</td>\n",
       "      <td>0.000000</td>\n",
       "      <td>1.293120e+06</td>\n",
       "      <td>0.757526</td>\n",
       "    </tr>\n",
       "    <tr>\n",
       "      <th>50%</th>\n",
       "      <td>15.000000</td>\n",
       "      <td>7.000000</td>\n",
       "      <td>2020.000000</td>\n",
       "      <td>15.000000</td>\n",
       "      <td>0.000000</td>\n",
       "      <td>7.169456e+06</td>\n",
       "      <td>6.724045</td>\n",
       "    </tr>\n",
       "    <tr>\n",
       "      <th>75%</th>\n",
       "      <td>23.000000</td>\n",
       "      <td>10.000000</td>\n",
       "      <td>2020.000000</td>\n",
       "      <td>273.000000</td>\n",
       "      <td>4.000000</td>\n",
       "      <td>2.851583e+07</td>\n",
       "      <td>52.561206</td>\n",
       "    </tr>\n",
       "    <tr>\n",
       "      <th>max</th>\n",
       "      <td>31.000000</td>\n",
       "      <td>12.000000</td>\n",
       "      <td>2020.000000</td>\n",
       "      <td>234633.000000</td>\n",
       "      <td>4928.000000</td>\n",
       "      <td>1.433784e+09</td>\n",
       "      <td>1900.836210</td>\n",
       "    </tr>\n",
       "  </tbody>\n",
       "</table>\n",
       "</div>"
      ],
      "text/plain": [
       "                day         month          year          cases        deaths  \\\n",
       "count  61904.000000  61904.000000  61904.000000   61904.000000  61904.000000   \n",
       "mean      15.629232      7.067104   2019.998918    1155.079026     26.053987   \n",
       "std        8.841624      2.954816      0.032881    6779.010824    131.222948   \n",
       "min        1.000000      1.000000   2019.000000   -8261.000000  -1918.000000   \n",
       "25%        8.000000      5.000000   2020.000000       0.000000      0.000000   \n",
       "50%       15.000000      7.000000   2020.000000      15.000000      0.000000   \n",
       "75%       23.000000     10.000000   2020.000000     273.000000      4.000000   \n",
       "max       31.000000     12.000000   2020.000000  234633.000000   4928.000000   \n",
       "\n",
       "        popData2019  \\\n",
       "count  6.178100e+04   \n",
       "mean   4.098628e+07   \n",
       "std    1.531246e+08   \n",
       "min    8.150000e+02   \n",
       "25%    1.293120e+06   \n",
       "50%    7.169456e+06   \n",
       "75%    2.851583e+07   \n",
       "max    1.433784e+09   \n",
       "\n",
       "       Cumulative_number_for_14_days_of_COVID-19_cases_per_100000  \n",
       "count                                       59025.000000           \n",
       "mean                                           66.316369           \n",
       "std                                           162.324550           \n",
       "min                                          -147.419587           \n",
       "25%                                             0.757526           \n",
       "50%                                             6.724045           \n",
       "75%                                            52.561206           \n",
       "max                                          1900.836210           "
      ]
     },
     "execution_count": 27,
     "metadata": {},
     "output_type": "execute_result"
    }
   ],
   "source": [
    "df.describe()"
   ]
  },
  {
   "cell_type": "code",
   "execution_count": 31,
   "metadata": {},
   "outputs": [
    {
     "name": "stdout",
     "output_type": "stream",
     "text": [
      "dateRep 0.0\n",
      "day 0.0\n",
      "month 0.0\n",
      "year 0.0\n",
      "cases 0.0\n",
      "deaths 0.0\n",
      "countriesAndTerritories 0.0\n",
      "geoId 0.004442362367536831\n",
      "countryterritoryCode 0.001986947531661928\n",
      "popData2019 0.001986947531661928\n",
      "continentExp 0.0\n",
      "Cumulative_number_for_14_days_of_COVID-19_cases_per_100000 0.04650749547686741\n"
     ]
    }
   ],
   "source": [
    "for column in df.columns:\n",
    "    print(column, np.mean(df[column].isna()) * 100)\n"
   ]
  },
  {
   "cell_type": "code",
   "execution_count": 4,
   "metadata": {},
   "outputs": [],
   "source": [
    "DF = df.drop(['geoId', 'Cumulative_number_for_14_days_of_COVID-19_cases_per_100000'], axis=1)\n",
    "\n",
    "DF['dateRep'].fillna('other', inplace=True)\n",
    "DF['countriesAndTerritories'].fillna('other', inplace=True)\n",
    "DF['countryterritoryCode'].fillna('other', inplace=True)\n",
    "DF['continentExp'].fillna('other', inplace=True)\n",
    "\n",
    "DF['day'].fillna(DF['day'].median(), inplace=True)\n",
    "DF['month'].fillna(DF['month'].median(), inplace=True)\n",
    "DF['year'].fillna(DF['year'].median(), inplace=True)\n",
    "DF['cases'].fillna(DF['cases'].median(), inplace=True)\n",
    "DF['deaths'].fillna(DF['deaths'].median(), inplace=True)\n",
    "DF['popData2019'].fillna(DF['popData2019'].median(), inplace=True)"
   ]
  },
  {
   "cell_type": "code",
   "execution_count": 33,
   "metadata": {},
   "outputs": [
    {
     "name": "stdout",
     "output_type": "stream",
     "text": [
      "dateRep 0.0\n",
      "day 0.0\n",
      "month 0.0\n",
      "year 0.0\n",
      "cases 0.0\n",
      "deaths 0.0\n",
      "countriesAndTerritories 0.0\n",
      "countryterritoryCode 0.0\n",
      "popData2019 0.0\n",
      "continentExp 0.0\n"
     ]
    }
   ],
   "source": [
    "for column in DF.columns:\n",
    "    print(column, np.mean(DF[column].isna() * 100))"
   ]
  },
  {
   "cell_type": "code",
   "execution_count": 34,
   "metadata": {},
   "outputs": [
    {
     "data": {
      "text/html": [
       "<div>\n",
       "<style scoped>\n",
       "    .dataframe tbody tr th:only-of-type {\n",
       "        vertical-align: middle;\n",
       "    }\n",
       "\n",
       "    .dataframe tbody tr th {\n",
       "        vertical-align: top;\n",
       "    }\n",
       "\n",
       "    .dataframe thead th {\n",
       "        text-align: right;\n",
       "    }\n",
       "</style>\n",
       "<table border=\"1\" class=\"dataframe\">\n",
       "  <thead>\n",
       "    <tr style=\"text-align: right;\">\n",
       "      <th></th>\n",
       "      <th>day</th>\n",
       "      <th>month</th>\n",
       "      <th>year</th>\n",
       "      <th>cases</th>\n",
       "      <th>deaths</th>\n",
       "      <th>popData2019</th>\n",
       "    </tr>\n",
       "  </thead>\n",
       "  <tbody>\n",
       "    <tr>\n",
       "      <th>count</th>\n",
       "      <td>61904.000000</td>\n",
       "      <td>61904.000000</td>\n",
       "      <td>61904.000000</td>\n",
       "      <td>61904.000000</td>\n",
       "      <td>61904.000000</td>\n",
       "      <td>6.190400e+04</td>\n",
       "    </tr>\n",
       "    <tr>\n",
       "      <th>mean</th>\n",
       "      <td>15.629232</td>\n",
       "      <td>7.067104</td>\n",
       "      <td>2019.998918</td>\n",
       "      <td>1155.079026</td>\n",
       "      <td>26.053987</td>\n",
       "      <td>4.091909e+07</td>\n",
       "    </tr>\n",
       "    <tr>\n",
       "      <th>std</th>\n",
       "      <td>8.841624</td>\n",
       "      <td>2.954816</td>\n",
       "      <td>0.032881</td>\n",
       "      <td>6779.010824</td>\n",
       "      <td>131.222948</td>\n",
       "      <td>1.529798e+08</td>\n",
       "    </tr>\n",
       "    <tr>\n",
       "      <th>min</th>\n",
       "      <td>1.000000</td>\n",
       "      <td>1.000000</td>\n",
       "      <td>2019.000000</td>\n",
       "      <td>-8261.000000</td>\n",
       "      <td>-1918.000000</td>\n",
       "      <td>8.150000e+02</td>\n",
       "    </tr>\n",
       "    <tr>\n",
       "      <th>25%</th>\n",
       "      <td>8.000000</td>\n",
       "      <td>5.000000</td>\n",
       "      <td>2020.000000</td>\n",
       "      <td>0.000000</td>\n",
       "      <td>0.000000</td>\n",
       "      <td>1.324820e+06</td>\n",
       "    </tr>\n",
       "    <tr>\n",
       "      <th>50%</th>\n",
       "      <td>15.000000</td>\n",
       "      <td>7.000000</td>\n",
       "      <td>2020.000000</td>\n",
       "      <td>15.000000</td>\n",
       "      <td>0.000000</td>\n",
       "      <td>7.169456e+06</td>\n",
       "    </tr>\n",
       "    <tr>\n",
       "      <th>75%</th>\n",
       "      <td>23.000000</td>\n",
       "      <td>10.000000</td>\n",
       "      <td>2020.000000</td>\n",
       "      <td>273.000000</td>\n",
       "      <td>4.000000</td>\n",
       "      <td>2.851583e+07</td>\n",
       "    </tr>\n",
       "    <tr>\n",
       "      <th>max</th>\n",
       "      <td>31.000000</td>\n",
       "      <td>12.000000</td>\n",
       "      <td>2020.000000</td>\n",
       "      <td>234633.000000</td>\n",
       "      <td>4928.000000</td>\n",
       "      <td>1.433784e+09</td>\n",
       "    </tr>\n",
       "  </tbody>\n",
       "</table>\n",
       "</div>"
      ],
      "text/plain": [
       "                day         month          year          cases        deaths  \\\n",
       "count  61904.000000  61904.000000  61904.000000   61904.000000  61904.000000   \n",
       "mean      15.629232      7.067104   2019.998918    1155.079026     26.053987   \n",
       "std        8.841624      2.954816      0.032881    6779.010824    131.222948   \n",
       "min        1.000000      1.000000   2019.000000   -8261.000000  -1918.000000   \n",
       "25%        8.000000      5.000000   2020.000000       0.000000      0.000000   \n",
       "50%       15.000000      7.000000   2020.000000      15.000000      0.000000   \n",
       "75%       23.000000     10.000000   2020.000000     273.000000      4.000000   \n",
       "max       31.000000     12.000000   2020.000000  234633.000000   4928.000000   \n",
       "\n",
       "        popData2019  \n",
       "count  6.190400e+04  \n",
       "mean   4.091909e+07  \n",
       "std    1.529798e+08  \n",
       "min    8.150000e+02  \n",
       "25%    1.324820e+06  \n",
       "50%    7.169456e+06  \n",
       "75%    2.851583e+07  \n",
       "max    1.433784e+09  "
      ]
     },
     "execution_count": 34,
     "metadata": {},
     "output_type": "execute_result"
    }
   ],
   "source": [
    "DF.describe()"
   ]
  },
  {
   "cell_type": "code",
   "execution_count": 43,
   "metadata": {},
   "outputs": [
    {
     "data": {
      "image/png": "[encoded data removed]",
      "text/plain": [
       "<Figure size 432x288 with 1 Axes>"
      ]
     },
     "metadata": {
      "needs_background": "light"
     },
     "output_type": "display_data"
    }
   ],
   "source": [
    "plt.hist(DF['dateRep'])\n",
    "plt.title('dateRep')\n",
    "plt.show()"
   ]
  },
  {
   "cell_type": "code",
   "execution_count": 44,
   "metadata": {},
   "outputs": [
    {
     "data": {
      "image/png": "[encoded data removed]",
      "text/plain": [
       "<Figure size 432x288 with 1 Axes>"
      ]
     },
     "metadata": {
      "needs_background": "light"
     },
     "output_type": "display_data"
    }
   ],
   "source": [
    "plt.hist(DF['countriesAndTerritories'])\n",
    "plt.title('countriesAndTerritories')\n",
    "plt.show()"
   ]
  },
  {
   "cell_type": "code",
   "execution_count": 45,
   "metadata": {},
   "outputs": [
    {
     "data": {
      "image/png": "[encoded data removed]",
      "text/plain": [
       "<Figure size 432x288 with 1 Axes>"
      ]
     },
     "metadata": {
      "needs_background": "light"
     },
     "output_type": "display_data"
    }
   ],
   "source": [
    "plt.hist(DF['countryterritoryCode'])\n",
    "plt.title('countryterritoryCode')\n",
    "plt.show()"
   ]
  },
  {
   "cell_type": "code",
   "execution_count": 46,
   "metadata": {},
   "outputs": [
    {
     "data": {
      "image/png": "[encoded data removed]",
      "text/plain": [
       "<Figure size 432x288 with 1 Axes>"
      ]
     },
     "metadata": {
      "needs_background": "light"
     },
     "output_type": "display_data"
    }
   ],
   "source": [
    "plt.hist(DF['continentExp'])\n",
    "plt.title('continentExp')\n",
    "plt.show()"
   ]
  },
  {
   "cell_type": "code",
   "execution_count": 35,
   "metadata": {},
   "outputs": [
    {
     "data": {
      "image/png": "[encoded data removed]",
      "text/plain": [
       "<Figure size 432x288 with 1 Axes>"
      ]
     },
     "metadata": {
      "needs_background": "light"
     },
     "output_type": "display_data"
    }
   ],
   "source": [
    "plt.boxplot(DF['month'])\n",
    "plt.title('month')\n",
    "plt.show()"
   ]
  },
  {
   "cell_type": "code",
   "execution_count": 36,
   "metadata": {},
   "outputs": [
    {
     "data": {
      "image/png": "[encoded data removed]",
      "text/plain": [
       "<Figure size 432x288 with 1 Axes>"
      ]
     },
     "metadata": {
      "needs_background": "light"
     },
     "output_type": "display_data"
    }
   ],
   "source": [
    "plt.boxplot(DF['year'])\n",
    "plt.title('year')\n",
    "plt.show()"
   ]
  },
  {
   "cell_type": "code",
   "execution_count": 37,
   "metadata": {},
   "outputs": [
    {
     "data": {
      "image/png": "[encoded data removed]",
      "text/plain": [
       "<Figure size 432x288 with 1 Axes>"
      ]
     },
     "metadata": {
      "needs_background": "light"
     },
     "output_type": "display_data"
    }
   ],
   "source": [
    "plt.boxplot(DF['cases'])\n",
    "plt.title('cases')\n",
    "plt.show()"
   ]
  },
  {
   "cell_type": "code",
   "execution_count": 38,
   "metadata": {},
   "outputs": [
    {
     "data": {
      "image/png": "[encoded data removed]",
      "text/plain": [
       "<Figure size 432x288 with 1 Axes>"
      ]
     },
     "metadata": {
      "needs_background": "light"
     },
     "output_type": "display_data"
    }
   ],
   "source": [
    "plt.boxplot(DF['deaths'])\n",
    "plt.title('deaths')\n",
    "plt.show()"
   ]
  },
  {
   "cell_type": "code",
   "execution_count": 39,
   "metadata": {},
   "outputs": [
    {
     "data": {
      "image/png": "[encoded data removed]",
      "text/plain": [
       "<Figure size 432x288 with 1 Axes>"
      ]
     },
     "metadata": {
      "needs_background": "light"
     },
     "output_type": "display_data"
    }
   ],
   "source": [
    "plt.boxplot(DF['popData2019'])\n",
    "plt.title('popData2019')\n",
    "plt.show()"
   ]
  },
  {
   "cell_type": "code",
   "execution_count": 56,
   "metadata": {},
   "outputs": [
    {
     "name": "stdout",
     "output_type": "stream",
     "text": [
      "          dateRep  day  month  year   cases  deaths   countriesAndTerritories  \\\n",
      "2118   02/10/2020    2     10  2020   14001    3351                 Argentina   \n",
      "16908  07/09/2020    7      9  2020   -8261    3800                   Ecuador   \n",
      "37038  09/10/2020    9     10  2020    4936    3013                    Mexico   \n",
      "44888  14/08/2020   14      8  2020    9441    3935                      Peru   \n",
      "44909  24/07/2020   24      7  2020    4546    3887                      Peru   \n",
      "59007  12/12/2020   12     12  2020  234633    3343  United_States_of_America   \n",
      "59009  10/12/2020   10     12  2020  220025    3124  United_States_of_America   \n",
      "59016  03/12/2020    3     12  2020  203311    3190  United_States_of_America   \n",
      "59239  24/04/2020   24      4  2020   26543    3179  United_States_of_America   \n",
      "59245  18/04/2020   18      4  2020   30833    3770  United_States_of_America   \n",
      "59247  16/04/2020   16      4  2020   30148    4928  United_States_of_America   \n",
      "\n",
      "      countryterritoryCode  popData2019 continentExp  \n",
      "2118                   ARG   44780675.0      America  \n",
      "16908                  ECU   17373657.0      America  \n",
      "37038                  MEX  127575529.0      America  \n",
      "44888                  PER   32510462.0      America  \n",
      "44909                  PER   32510462.0      America  \n",
      "59007                  USA  329064917.0      America  \n",
      "59009                  USA  329064917.0      America  \n",
      "59016                  USA  329064917.0      America  \n",
      "59239                  USA  329064917.0      America  \n",
      "59245                  USA  329064917.0      America  \n",
      "59247                  USA  329064917.0      America  \n"
     ]
    }
   ],
   "source": [
    "print(DF.loc[DF['deaths'] > 3000])"
   ]
  },
  {
   "cell_type": "code",
   "execution_count": 51,
   "metadata": {},
   "outputs": [
    {
     "name": "stdout",
     "output_type": "stream",
     "text": [
      "{'Libya', 'Chad', 'Malaysia', 'Wallis_and_Futuna', 'Germany', 'Honduras', 'Gabon', 'Iraq', 'Tajikistan', 'Monaco', 'Israel', 'Greenland', 'Ukraine', 'Guatemala', 'Vietnam', 'Vanuatu', 'Czechia', 'Central_African_Republic', 'Dominican_Republic', 'Pakistan', 'Turkey', 'Venezuela', 'South_Sudan', 'Cote_dIvoire', 'Norway', 'Slovakia', 'Liberia', 'Burkina_Faso', 'Peru', 'Romania', 'Slovenia', 'Thailand', 'Marshall_Islands', 'Malawi', 'Niger', 'Nepal', 'Greece', 'Austria', 'Sierra_Leone', 'Uruguay', 'Sudan', 'Burundi', 'Portugal', 'Senegal', 'Saint_Kitts_and_Nevis', 'Bulgaria', 'Djibouti', 'France', 'Equatorial_Guinea', 'Togo', 'Serbia', 'Somalia', 'Zimbabwe', 'Belarus', 'Denmark', 'Angola', 'Ethiopia', 'Sri_Lanka', 'Northern_Mariana_Islands', 'Syria', 'Panama', 'Poland', 'Bolivia', 'Democratic_Republic_of_the_Congo', 'Mauritius', 'Ireland', 'Chile', 'Costa_Rica', 'Guernsey', 'United_Republic_of_Tanzania', 'Japan', 'Cameroon', 'Jamaica', 'Switzerland', 'Iceland', 'Paraguay', 'Singapore', 'Sweden', 'Kyrgyzstan', 'Kuwait', 'Bangladesh', 'New_Zealand', 'Yemen', 'Anguilla', 'Haiti', 'Canada', 'San_Marino', 'Cape_Verde', 'Saint_Lucia', 'Belize', 'Ecuador', 'United_States_Virgin_Islands', 'Bhutan', 'Estonia', 'Lesotho', 'Mexico', 'Montenegro', 'Nicaragua', 'Lebanon', 'Guyana', 'Indonesia', 'Saudi_Arabia', 'Eswatini', 'Falkland_Islands_(Malvinas)', 'Lithuania', 'Timor_Leste', 'Hungary', 'Egypt', 'North_Macedonia', 'Benin', 'Nigeria', 'Malta', 'Croatia', 'Liechtenstein', 'Sao_Tome_and_Principe', 'India', 'United_Kingdom', 'Kenya', 'Papua_New_Guinea', 'Taiwan', 'Congo', 'Colombia', 'Dominica', 'Myanmar', 'Tunisia', 'Bahrain', 'Faroe_Islands', 'Mongolia', 'Antigua_and_Barbuda', 'Western_Sahara', 'Aruba', 'Finland', 'Andorra', 'Argentina', 'Bermuda', 'Turks_and_Caicos_islands', 'Morocco', 'Gibraltar', 'Cyprus', 'United_States_of_America', 'Cayman_Islands', 'Algeria', 'Botswana', 'Mali', 'Jordan', 'Latvia', 'Bahamas', 'Afghanistan', 'Barbados', 'Bosnia_and_Herzegovina', 'Jersey', 'Seychelles', 'Kazakhstan', 'Netherlands', 'Georgia', 'Luxembourg', 'Cases_on_an_international_conveyance_Japan', 'Isle_of_Man', 'Cuba', 'Comoros', 'Kosovo', 'Armenia', 'Holy_See', 'Laos', 'Philippines', 'Eritrea', 'Brunei_Darussalam', 'Guinea_Bissau', 'Oman', 'Curaçao', 'Belgium', 'Mozambique', 'Solomon_Islands', 'Uzbekistan', 'Azerbaijan', 'Namibia', 'Cambodia', 'Russia', 'Guinea', 'Sint_Maarten', 'Qatar', 'Italy', 'Grenada', 'Albania', 'Maldives', 'Fiji', 'Iran', 'Brazil', 'Rwanda', 'Guam', 'Mauritania', 'Moldova', 'Bonaire, Saint Eustatius and Saba', 'Uganda', 'New_Caledonia', 'Australia', 'United_Arab_Emirates', 'British_Virgin_Islands', 'Montserrat', 'Suriname', 'Madagascar', 'French_Polynesia', 'Puerto_Rico', 'El_Salvador', 'Palestine', 'Gambia', 'Ghana', 'Spain', 'South_Korea', 'Saint_Vincent_and_the_Grenadines', 'China', 'South_Africa', 'Zambia', 'Trinidad_and_Tobago'}\n"
     ]
    }
   ],
   "source": [
    "countries = set(DF['countriesAndTerritories'])\n",
    "print(countries)"
   ]
  },
  {
   "cell_type": "code",
   "execution_count": 52,
   "metadata": {},
   "outputs": [],
   "source": [
    "country_deaths = dict.fromkeys(countries, 0)\n",
    "for index, row in DF.iterrows():\n",
    "    if (row['deaths'] > 3000):\n",
    "        country_deaths[row['countriesAndTerritories']] = country_deaths[row['countriesAndTerritories']] + 1"
   ]
  },
  {
   "cell_type": "code",
   "execution_count": 57,
   "metadata": {},
   "outputs": [
    {
     "name": "stdout",
     "output_type": "stream",
     "text": [
      "Peru 2\n",
      "Ecuador 1\n",
      "Mexico 1\n",
      "Argentina 1\n",
      "United_States_of_America 6\n"
     ]
    }
   ],
   "source": [
    "for key, value in country_deaths.items():\n",
    "    if (value > 0):\n",
    "        print(key, value)"
   ]
  },
  {
   "cell_type": "code",
   "execution_count": 58,
   "metadata": {},
   "outputs": [
    {
     "data": {
      "text/html": [
       "<div>\n",
       "<style scoped>\n",
       "    .dataframe tbody tr th:only-of-type {\n",
       "        vertical-align: middle;\n",
       "    }\n",
       "\n",
       "    .dataframe tbody tr th {\n",
       "        vertical-align: top;\n",
       "    }\n",
       "\n",
       "    .dataframe thead th {\n",
       "        text-align: right;\n",
       "    }\n",
       "</style>\n",
       "<table border=\"1\" class=\"dataframe\">\n",
       "  <thead>\n",
       "    <tr style=\"text-align: right;\">\n",
       "      <th></th>\n",
       "      <th>dateRep</th>\n",
       "      <th>day</th>\n",
       "      <th>month</th>\n",
       "      <th>year</th>\n",
       "      <th>cases</th>\n",
       "      <th>deaths</th>\n",
       "      <th>countriesAndTerritories</th>\n",
       "      <th>countryterritoryCode</th>\n",
       "      <th>popData2019</th>\n",
       "      <th>continentExp</th>\n",
       "    </tr>\n",
       "  </thead>\n",
       "  <tbody>\n",
       "    <tr>\n",
       "      <th>0</th>\n",
       "      <td>14/12/2020</td>\n",
       "      <td>14</td>\n",
       "      <td>12</td>\n",
       "      <td>2020</td>\n",
       "      <td>746</td>\n",
       "      <td>6</td>\n",
       "      <td>Afghanistan</td>\n",
       "      <td>AFG</td>\n",
       "      <td>38041757.0</td>\n",
       "      <td>Asia</td>\n",
       "    </tr>\n",
       "    <tr>\n",
       "      <th>1</th>\n",
       "      <td>13/12/2020</td>\n",
       "      <td>13</td>\n",
       "      <td>12</td>\n",
       "      <td>2020</td>\n",
       "      <td>298</td>\n",
       "      <td>9</td>\n",
       "      <td>Afghanistan</td>\n",
       "      <td>AFG</td>\n",
       "      <td>38041757.0</td>\n",
       "      <td>Asia</td>\n",
       "    </tr>\n",
       "    <tr>\n",
       "      <th>2</th>\n",
       "      <td>12/12/2020</td>\n",
       "      <td>12</td>\n",
       "      <td>12</td>\n",
       "      <td>2020</td>\n",
       "      <td>113</td>\n",
       "      <td>11</td>\n",
       "      <td>Afghanistan</td>\n",
       "      <td>AFG</td>\n",
       "      <td>38041757.0</td>\n",
       "      <td>Asia</td>\n",
       "    </tr>\n",
       "    <tr>\n",
       "      <th>4</th>\n",
       "      <td>11/12/2020</td>\n",
       "      <td>11</td>\n",
       "      <td>12</td>\n",
       "      <td>2020</td>\n",
       "      <td>63</td>\n",
       "      <td>10</td>\n",
       "      <td>Afghanistan</td>\n",
       "      <td>AFG</td>\n",
       "      <td>38041757.0</td>\n",
       "      <td>Asia</td>\n",
       "    </tr>\n",
       "    <tr>\n",
       "      <th>5</th>\n",
       "      <td>10/12/2020</td>\n",
       "      <td>10</td>\n",
       "      <td>12</td>\n",
       "      <td>2020</td>\n",
       "      <td>202</td>\n",
       "      <td>16</td>\n",
       "      <td>Afghanistan</td>\n",
       "      <td>AFG</td>\n",
       "      <td>38041757.0</td>\n",
       "      <td>Asia</td>\n",
       "    </tr>\n",
       "    <tr>\n",
       "      <th>...</th>\n",
       "      <td>...</td>\n",
       "      <td>...</td>\n",
       "      <td>...</td>\n",
       "      <td>...</td>\n",
       "      <td>...</td>\n",
       "      <td>...</td>\n",
       "      <td>...</td>\n",
       "      <td>...</td>\n",
       "      <td>...</td>\n",
       "      <td>...</td>\n",
       "    </tr>\n",
       "    <tr>\n",
       "      <th>61899</th>\n",
       "      <td>25/03/2020</td>\n",
       "      <td>25</td>\n",
       "      <td>3</td>\n",
       "      <td>2020</td>\n",
       "      <td>0</td>\n",
       "      <td>0</td>\n",
       "      <td>Zimbabwe</td>\n",
       "      <td>ZWE</td>\n",
       "      <td>14645473.0</td>\n",
       "      <td>Africa</td>\n",
       "    </tr>\n",
       "    <tr>\n",
       "      <th>61900</th>\n",
       "      <td>24/03/2020</td>\n",
       "      <td>24</td>\n",
       "      <td>3</td>\n",
       "      <td>2020</td>\n",
       "      <td>0</td>\n",
       "      <td>1</td>\n",
       "      <td>Zimbabwe</td>\n",
       "      <td>ZWE</td>\n",
       "      <td>14645473.0</td>\n",
       "      <td>Africa</td>\n",
       "    </tr>\n",
       "    <tr>\n",
       "      <th>61901</th>\n",
       "      <td>23/03/2020</td>\n",
       "      <td>23</td>\n",
       "      <td>3</td>\n",
       "      <td>2020</td>\n",
       "      <td>0</td>\n",
       "      <td>0</td>\n",
       "      <td>Zimbabwe</td>\n",
       "      <td>ZWE</td>\n",
       "      <td>14645473.0</td>\n",
       "      <td>Africa</td>\n",
       "    </tr>\n",
       "    <tr>\n",
       "      <th>61902</th>\n",
       "      <td>22/03/2020</td>\n",
       "      <td>22</td>\n",
       "      <td>3</td>\n",
       "      <td>2020</td>\n",
       "      <td>1</td>\n",
       "      <td>0</td>\n",
       "      <td>Zimbabwe</td>\n",
       "      <td>ZWE</td>\n",
       "      <td>14645473.0</td>\n",
       "      <td>Africa</td>\n",
       "    </tr>\n",
       "    <tr>\n",
       "      <th>61903</th>\n",
       "      <td>21/03/2020</td>\n",
       "      <td>21</td>\n",
       "      <td>3</td>\n",
       "      <td>2020</td>\n",
       "      <td>1</td>\n",
       "      <td>0</td>\n",
       "      <td>Zimbabwe</td>\n",
       "      <td>ZWE</td>\n",
       "      <td>14645473.0</td>\n",
       "      <td>Africa</td>\n",
       "    </tr>\n",
       "  </tbody>\n",
       "</table>\n",
       "<p>61900 rows × 10 columns</p>\n",
       "</div>"
      ],
      "text/plain": [
       "          dateRep  day  month  year  cases  deaths countriesAndTerritories  \\\n",
       "0      14/12/2020   14     12  2020    746       6             Afghanistan   \n",
       "1      13/12/2020   13     12  2020    298       9             Afghanistan   \n",
       "2      12/12/2020   12     12  2020    113      11             Afghanistan   \n",
       "4      11/12/2020   11     12  2020     63      10             Afghanistan   \n",
       "5      10/12/2020   10     12  2020    202      16             Afghanistan   \n",
       "...           ...  ...    ...   ...    ...     ...                     ...   \n",
       "61899  25/03/2020   25      3  2020      0       0                Zimbabwe   \n",
       "61900  24/03/2020   24      3  2020      0       1                Zimbabwe   \n",
       "61901  23/03/2020   23      3  2020      0       0                Zimbabwe   \n",
       "61902  22/03/2020   22      3  2020      1       0                Zimbabwe   \n",
       "61903  21/03/2020   21      3  2020      1       0                Zimbabwe   \n",
       "\n",
       "      countryterritoryCode  popData2019 continentExp  \n",
       "0                      AFG   38041757.0         Asia  \n",
       "1                      AFG   38041757.0         Asia  \n",
       "2                      AFG   38041757.0         Asia  \n",
       "4                      AFG   38041757.0         Asia  \n",
       "5                      AFG   38041757.0         Asia  \n",
       "...                    ...          ...          ...  \n",
       "61899                  ZWE   14645473.0       Africa  \n",
       "61900                  ZWE   14645473.0       Africa  \n",
       "61901                  ZWE   14645473.0       Africa  \n",
       "61902                  ZWE   14645473.0       Africa  \n",
       "61903                  ZWE   14645473.0       Africa  \n",
       "\n",
       "[61900 rows x 10 columns]"
      ]
     },
     "execution_count": 58,
     "metadata": {},
     "output_type": "execute_result"
    }
   ],
   "source": [
    "DF.drop_duplicates()"
   ]
  },
  {
   "cell_type": "code",
   "execution_count": 11,
   "metadata": {},
   "outputs": [],
   "source": [
    "df = pd.read_csv(r'bmi.csv', delimiter=',')"
   ]
  },
  {
   "cell_type": "code",
   "execution_count": 12,
   "metadata": {},
   "outputs": [],
   "source": [
    "s_data = df.loc[df[\"region\"] == 'southwest']\n",
    "n_data = df.loc[df[\"region\"] == 'northwest']"
   ]
  },
  {
   "cell_type": "code",
   "execution_count": 16,
   "metadata": {},
   "outputs": [
    {
     "name": "stdout",
     "output_type": "stream",
     "text": [
      "      bmi     region\n",
      "325  27.9  southwest\n",
      "326  34.4  southwest\n",
      "327  24.6  southwest\n",
      "328  40.3  southwest\n",
      "329  35.3  southwest\n",
      "..    ...        ...\n",
      "645  20.6  southwest\n",
      "646  38.6  southwest\n",
      "647  33.4  southwest\n",
      "648  44.7  southwest\n",
      "649  25.8  southwest\n",
      "\n",
      "[325 rows x 2 columns]\n"
     ]
    }
   ],
   "source": [
    "print(s_data)"
   ]
  },
  {
   "cell_type": "code",
   "execution_count": 13,
   "metadata": {},
   "outputs": [],
   "source": [
    "z1 = (s_data['bmi'] - s_data['bmi'].mean())/s_data['bmi'].std()\n",
    "z2 = (n_data['bmi'] - n_data['bmi'].mean())/n_data['bmi'].std()"
   ]
  },
  {
   "cell_type": "code",
   "execution_count": 17,
   "metadata": {},
   "outputs": [
    {
     "name": "stdout",
     "output_type": "stream",
     "text": [
      "Ttest_indResult(statistic=3.2844171500398582, pvalue=0.001076958496307695) \n",
      "\n"
     ]
    }
   ],
   "source": [
    "t_res = sts.ttest_ind(s_data['bmi'], n_data['bmi'])\n",
    "print(t_res, '\\n')"
   ]
  },
  {
   "cell_type": "code",
   "execution_count": 18,
   "metadata": {},
   "outputs": [
    {
     "name": "stdout",
     "output_type": "stream",
     "text": [
      "ShapiroResult(statistic=0.9949269890785217, pvalue=0.3629764914512634)\n",
      "ShapiroResult(statistic=0.9954644441604614, pvalue=0.4654794931411743) \n",
      "\n"
     ]
    }
   ],
   "source": [
    "res1 = sts.shapiro(s_data['bmi'])\n",
    "res2 = sts.shapiro(n_data['bmi'])\n",
    "print(res1)\n",
    "print(res2, '\\n')"
   ]
  },
  {
   "cell_type": "code",
   "execution_count": 19,
   "metadata": {},
   "outputs": [
    {
     "name": "stdout",
     "output_type": "stream",
     "text": [
      "BartlettResult(statistic=3.4000745256463825, pvalue=0.06519347353580048) \n",
      "\n"
     ]
    }
   ],
   "source": [
    "res = sts.bartlett(s_data['bmi'], n_data['bmi'])\n",
    "print(res, '\\n')"
   ]
  },
  {
   "cell_type": "code",
   "execution_count": 20,
   "metadata": {},
   "outputs": [],
   "source": [
    "data = pd.DataFrame({'N': [1, 2, 3, 4, 5, 6],\n",
    "                     'Полученное количество выпадений': [97, 98, 109, 95, 97, 104],\n",
    "                     'Ожидаемое количество выпадений': [100, 100, 100, 100, 100, 100]})"
   ]
  },
  {
   "cell_type": "code",
   "execution_count": 21,
   "metadata": {},
   "outputs": [
    {
     "name": "stdout",
     "output_type": "stream",
     "text": [
      "Power_divergenceResult(statistic=1.44, pvalue=0.9198882077437889) \n",
      "\n"
     ]
    }
   ],
   "source": [
    "print(sts.chisquare(data['Полученное количество выпадений'],\n",
    "                    data['Ожидаемое количество выпадений']), '\\n')"
   ]
  },
  {
   "cell_type": "code",
   "execution_count": 22,
   "metadata": {},
   "outputs": [],
   "source": [
    "data = pd.DataFrame({'Женат': [89, 17, 11, 43, 22, 1],\n",
    "                     'Гражданский брак': [80, 22, 20, 35, 6, 4],\n",
    "                     'Не состоит в отношениях': [35, 44, 35, 6, 8, 22]})"
   ]
  },
  {
   "cell_type": "code",
   "execution_count": 23,
   "metadata": {},
   "outputs": [
    {
     "name": "stdout",
     "output_type": "stream",
     "text": [
      "                      Женат  Гражданский брак  Не состоит в отношениях\n",
      "Полный рабочий день      89                80                       35\n",
      "Частичная занятость      17                22                       44\n",
      "Временно не работает     11                20                       35\n",
      "На домохозяйстве         43                35                        6\n",
      "На пенсии                22                 6                        8 \n",
      "\n",
      "(122.29654948595365, 1.7291616900960234e-21, 10)\n"
     ]
    }
   ],
   "source": [
    "data.index = ['Полный рабочий день', 'Частичная занятость',\n",
    "              'Временно не работает', 'На домохозяйстве',\n",
    "              'На пенсии', 'Учёба']\n",
    "print(data.head(), '\\n')\n",
    "print(sts.chi2_contingency(data)[:3])"
   ]
  }
 ],
 "metadata": {
  "kernelspec": {
   "display_name": "Python 3",
   "language": "python",
   "name": "python3"
  },
  "language_info": {
   "codemirror_mode": {
    "name": "ipython",
    "version": 3
   },
   "file_extension": ".py",
   "mimetype": "text/x-python",
   "name": "python",
   "nbconvert_exporter": "python",
   "pygments_lexer": "ipython3",
   "version": "3.7.6"
  },
  "vscode": {
   "interpreter": {
    "hash": "047c14c6aae90797594d060c60b76a6e1cc1b5130d33b17540f70cd8706181a9"
   }
  }
 },
 "nbformat": 4,
 "nbformat_minor": 2
}
